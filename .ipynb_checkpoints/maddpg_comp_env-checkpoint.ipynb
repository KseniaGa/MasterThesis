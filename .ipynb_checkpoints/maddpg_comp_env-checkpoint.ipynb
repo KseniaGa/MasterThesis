{
 "cells": [
  {
   "cell_type": "code",
   "execution_count": 1,
   "id": "9c3cbb39",
   "metadata": {},
   "outputs": [],
   "source": [
    "#from ray.rllib.env import PettingZooEnv\n",
    "from pettingzoo.mpe import simple_adversary_v2"
   ]
  },
  {
   "cell_type": "code",
   "execution_count": 2,
   "id": "eccc0f3c",
   "metadata": {},
   "outputs": [],
   "source": [
    "import numpy as np\n",
    "import time\n",
    "\n",
    "class MultiAgentReplayBuffer:\n",
    "    def __init__(self, max_size, critic_dims, actor_dims, \n",
    "            n_actions, n_agents, batch_size):\n",
    "        self.mem_size = max_size\n",
    "        self.mem_cntr = 0\n",
    "        self.n_agents = n_agents\n",
    "        self.actor_dims = actor_dims\n",
    "        self.batch_size = batch_size\n",
    "        self.n_actions = n_actions\n",
    "\n",
    "        self.state_memory = np.zeros((self.mem_size, critic_dims))\n",
    "        self.new_state_memory = np.zeros((self.mem_size, critic_dims))\n",
    "        self.reward_memory = np.zeros((self.mem_size, n_agents))\n",
    "        self.terminal_memory = np.zeros((self.mem_size, n_agents), dtype=bool)\n",
    "\n",
    "        self.init_actor_memory()\n",
    "\n",
    "    def init_actor_memory(self):\n",
    "        self.actor_state_memory = []\n",
    "        self.actor_new_state_memory = []\n",
    "        self.actor_action_memory = []\n",
    "\n",
    "        for i in range(self.n_agents):\n",
    "            self.actor_state_memory.append(\n",
    "                            np.zeros((self.mem_size, self.actor_dims[i])))\n",
    "            self.actor_new_state_memory.append(\n",
    "                            np.zeros((self.mem_size, self.actor_dims[i])))\n",
    "            self.actor_action_memory.append(\n",
    "                            np.zeros((self.mem_size, self.n_actions)))\n",
    "\n",
    "\n",
    "    def store_transition(self, raw_obs, state, action, reward, \n",
    "                               raw_obs_, state_, done):\n",
    "        # this introduces a bug: if we fill up the memory capacity and then\n",
    "        # zero out our actor memory, the critic will still have memories to access\n",
    "        # while the actor will have nothing but zeros to sample. Obviously\n",
    "        # not what we intend.\n",
    "        # In reality, there's no problem with just using the same index\n",
    "        # for both the actor and critic states. I'm not sure why I thought\n",
    "        # this was necessary in the first place. Sorry for the confusion!\n",
    "\n",
    "        #if self.mem_cntr % self.mem_size == 0 and self.mem_cntr > 0:\n",
    "        #    self.init_actor_memory()\n",
    "        \n",
    "        index = self.mem_cntr % self.mem_size\n",
    "\n",
    "        for agent_idx in range(self.n_agents):\n",
    "            self.actor_state_memory[agent_idx][index] = raw_obs[agent_idx]\n",
    "            self.actor_new_state_memory[agent_idx][index] = raw_obs_[agent_idx]\n",
    "            self.actor_action_memory[agent_idx][index] = action[agent_idx]\n",
    "\n",
    "        self.state_memory[index] = state\n",
    "        self.new_state_memory[index] = state_\n",
    "        self.reward_memory[index] = reward\n",
    "        self.terminal_memory[index] = done\n",
    "        self.mem_cntr += 1\n",
    "\n",
    "    def sample_buffer(self):\n",
    "        max_mem = min(self.mem_cntr, self.mem_size)\n",
    "\n",
    "        batch = np.random.choice(max_mem, self.batch_size, replace=False)\n",
    "\n",
    "        states = self.state_memory[batch]\n",
    "        rewards = self.reward_memory[batch]\n",
    "        states_ = self.new_state_memory[batch]\n",
    "        terminal = self.terminal_memory[batch]\n",
    "\n",
    "        actor_states = []\n",
    "        actor_new_states = []\n",
    "        actions = []\n",
    "        for agent_idx in range(self.n_agents):\n",
    "            actor_states.append(self.actor_state_memory[agent_idx][batch])\n",
    "            actor_new_states.append(self.actor_new_state_memory[agent_idx][batch])\n",
    "            actions.append(self.actor_action_memory[agent_idx][batch])\n",
    "\n",
    "        return actor_states, states, actions, rewards, \\\n",
    "               actor_new_states, states_, terminal\n",
    "\n",
    "    def ready(self):\n",
    "        if self.mem_cntr >= self.batch_size:\n",
    "            return True"
   ]
  },
  {
   "cell_type": "code",
   "execution_count": 3,
   "id": "793a4726",
   "metadata": {},
   "outputs": [
    {
     "data": {
      "text/plain": [
       "array([-0.66404458, -0.64786498])"
      ]
     },
     "execution_count": 3,
     "metadata": {},
     "output_type": "execute_result"
    }
   ],
   "source": [
    "np.random.uniform(-0.8, -0.6, 2)"
   ]
  },
  {
   "cell_type": "code",
   "execution_count": 4,
   "id": "d6f59be9",
   "metadata": {},
   "outputs": [
    {
     "data": {
      "text/plain": [
       "array([0.69066124, 0.61448144])"
      ]
     },
     "execution_count": 4,
     "metadata": {},
     "output_type": "execute_result"
    }
   ],
   "source": [
    "#world.adv_swarm_pos = []\n",
    "import random\n",
    "\n",
    "#downLeft = np.random.uniform(-0.8, -0.6, world.dim_p)\n",
    "#upRight = np.random.uniform(0.8, 0.6, world.dim_p)\n",
    "#world.adv_swarm_pos.append(downLeft)\n",
    "#world.adv_swarm_pos.append(upRight)\n",
    "rand_pos = random.choice([np.random.uniform(-0.8, -0.6, 2), np.random.uniform(0.8, 0.6, 2)])\n",
    "rand_pos"
   ]
  },
  {
   "cell_type": "code",
   "execution_count": 5,
   "id": "d95f52f2",
   "metadata": {},
   "outputs": [],
   "source": [
    "import os\n",
    "import torch as T\n",
    "import torch.nn as nn\n",
    "import torch.nn.functional as F\n",
    "import torch.optim as optim\n",
    "\n",
    "class CriticNetwork(nn.Module):\n",
    "    def __init__(self, beta, input_dims, fc1_dims, fc2_dims, \n",
    "                    n_agents, n_actions, name, chkpt_dir):\n",
    "        super(CriticNetwork, self).__init__()\n",
    "\n",
    "        self.chkpt_file = os.path.join(chkpt_dir, name)\n",
    "\n",
    "        self.fc1 = nn.Linear(input_dims+n_agents*n_actions, fc1_dims)\n",
    "        self.fc2 = nn.Linear(fc1_dims, fc2_dims)\n",
    "        self.q = nn.Linear(fc2_dims, 1)\n",
    "\n",
    "        self.optimizer = optim.Adam(self.parameters(), lr=beta)\n",
    "        self.device = T.device('cuda:0' if T.cuda.is_available() else 'cpu')\n",
    " \n",
    "        self.to(self.device)\n",
    "\n",
    "    def forward(self, state, action):\n",
    "        x = F.relu(self.fc1(T.cat([state, action], dim=1)), inplace=True)\n",
    "        x = F.relu(self.fc2(x), inplace=True)\n",
    "        q = self.q(x)\n",
    "\n",
    "        return q\n",
    "\n",
    "    def save_checkpoint(self):\n",
    "        T.save(self.state_dict(), self.chkpt_file)\n",
    "\n",
    "    def load_checkpoint(self):\n",
    "        self.load_state_dict(T.load(self.chkpt_file))\n",
    "\n",
    "\n",
    "class ActorNetwork(nn.Module):\n",
    "    def __init__(self, alpha, input_dims, fc1_dims, fc2_dims, \n",
    "                 n_actions, name, chkpt_dir):\n",
    "        super(ActorNetwork, self).__init__()\n",
    "\n",
    "        self.chkpt_file = os.path.join(chkpt_dir, name)\n",
    "\n",
    "        self.fc1 = nn.Linear(input_dims, fc1_dims)\n",
    "        self.fc2 = nn.Linear(fc1_dims, fc2_dims)\n",
    "        self.pi = nn.Linear(fc2_dims, n_actions)\n",
    "\n",
    "        self.optimizer = optim.Adam(self.parameters(), lr=alpha)\n",
    "        self.device = T.device('cuda:0' if T.cuda.is_available() else 'cpu')\n",
    " \n",
    "        self.to(self.device)\n",
    "\n",
    "    def forward(self, state):\n",
    "        x = F.relu(self.fc1(state), inplace=True)\n",
    "        x = F.relu(self.fc2(x), inplace=True)\n",
    "        pi = T.softmax(self.pi(x), dim=1)\n",
    "\n",
    "        return pi\n",
    "\n",
    "    def save_checkpoint(self):\n",
    "        T.save(self.state_dict(), self.chkpt_file)\n",
    "\n",
    "    def load_checkpoint(self):\n",
    "        self.load_state_dict(T.load(self.chkpt_file))"
   ]
  },
  {
   "cell_type": "code",
   "execution_count": 6,
   "id": "650a43c2",
   "metadata": {},
   "outputs": [],
   "source": [
    "import torch as T\n",
    "#from networks import ActorNetwork, CriticNetwork\n",
    "\n",
    "class Agent:\n",
    "    def __init__(self, actor_dims, critic_dims, n_actions, n_agents, agent_idx, chkpt_dir,\n",
    "                    alpha=0.01, beta=0.01, fc1=64, \n",
    "                    fc2=64, gamma=0.95, tau=0.01):\n",
    "        self.gamma = gamma\n",
    "        self.tau = tau\n",
    "        self.n_actions = n_actions\n",
    "        self.agent_name = 'agent_%s' % agent_idx\n",
    "        self.actor = ActorNetwork(alpha, actor_dims, fc1, fc2, n_actions, \n",
    "                                  chkpt_dir=chkpt_dir,  name=self.agent_name+'_actor')\n",
    "        self.critic = CriticNetwork(beta, critic_dims, \n",
    "                            fc1, fc2, n_agents, n_actions, \n",
    "                            chkpt_dir=chkpt_dir, name=self.agent_name+'_critic')\n",
    "        self.target_actor = ActorNetwork(alpha, actor_dims, fc1, fc2, n_actions,\n",
    "                                        chkpt_dir=chkpt_dir, \n",
    "                                        name=self.agent_name+'_target_actor')\n",
    "        self.target_critic = CriticNetwork(beta, critic_dims, \n",
    "                                            fc1, fc2, n_agents, n_actions,\n",
    "                                            chkpt_dir=chkpt_dir,\n",
    "                                            name=self.agent_name+'_target_critic')\n",
    "\n",
    "        self.update_network_parameters(tau=1)\n",
    "\n",
    "    def choose_action(self, observation):\n",
    "        state = T.tensor([observation], dtype=T.float).to(self.actor.device)\n",
    "        actions = self.actor.forward(state)\n",
    "        noise = T.rand(self.n_actions).to(self.actor.device)\n",
    "        action = actions + noise\n",
    "\n",
    "        return action.detach().cpu().numpy()[0]\n",
    "\n",
    "    def update_network_parameters(self, tau=None):\n",
    "        if tau is None:\n",
    "            tau = self.tau\n",
    "\n",
    "        target_actor_params = self.target_actor.named_parameters()\n",
    "        actor_params = self.actor.named_parameters()\n",
    "\n",
    "        target_actor_state_dict = dict(target_actor_params)\n",
    "        actor_state_dict = dict(actor_params)\n",
    "        for name in actor_state_dict:\n",
    "            actor_state_dict[name] = tau*actor_state_dict[name].clone() + \\\n",
    "                    (1-tau)*target_actor_state_dict[name].clone()\n",
    "\n",
    "        self.target_actor.load_state_dict(actor_state_dict)\n",
    "\n",
    "        target_critic_params = self.target_critic.named_parameters()\n",
    "        critic_params = self.critic.named_parameters()\n",
    "\n",
    "        target_critic_state_dict = dict(target_critic_params)\n",
    "        critic_state_dict = dict(critic_params)\n",
    "        for name in critic_state_dict:\n",
    "            critic_state_dict[name] = tau*critic_state_dict[name].clone() + \\\n",
    "                    (1-tau)*target_critic_state_dict[name].clone()\n",
    "\n",
    "        self.target_critic.load_state_dict(critic_state_dict)\n",
    "\n",
    "    def save_models(self):\n",
    "        self.actor.save_checkpoint()\n",
    "        self.target_actor.save_checkpoint()\n",
    "        self.critic.save_checkpoint()\n",
    "        self.target_critic.save_checkpoint()\n",
    "\n",
    "    def load_models(self):\n",
    "        self.actor.load_checkpoint()\n",
    "        self.target_actor.load_checkpoint()\n",
    "        self.critic.load_checkpoint()\n",
    "        self.target_critic.load_checkpoint()"
   ]
  },
  {
   "cell_type": "code",
   "execution_count": 7,
   "id": "861e6068",
   "metadata": {},
   "outputs": [],
   "source": [
    "import torch as T\n",
    "import torch.nn.functional as F\n",
    "#from agent import Agent\n",
    "\n",
    "class MADDPG:\n",
    "    def __init__(self, actor_dims, critic_dims, n_agents, n_actions, \n",
    "                 scenario='simple',  alpha=0.01, beta=0.01, fc1=64, \n",
    "                 fc2=64, gamma=0.99, tau=0.01, chkpt_dir='tmp/maddpg/'):\n",
    "        self.agents = []\n",
    "        self.n_agents = n_agents\n",
    "        self.n_actions = n_actions\n",
    "        chkpt_dir += scenario \n",
    "        for agent_idx in range(self.n_agents):\n",
    "            self.agents.append(Agent(actor_dims[agent_idx], critic_dims,  \n",
    "                            n_actions, n_agents, agent_idx, alpha=alpha, beta=beta,\n",
    "                            chkpt_dir=chkpt_dir))\n",
    "\n",
    "\n",
    "    def save_checkpoint(self):\n",
    "        print('... saving checkpoint ...')\n",
    "        for agent in self.agents:\n",
    "            agent.save_models()\n",
    "\n",
    "    def load_checkpoint(self):\n",
    "        print('... loading checkpoint ...')\n",
    "        for agent in self.agents:\n",
    "            agent.load_models()\n",
    "\n",
    "    def choose_action(self, raw_obs):\n",
    "        actions = []\n",
    "        for agent_idx, agent in enumerate(self.agents):\n",
    "            action = agent.choose_action(raw_obs[agent_idx])\n",
    "            actions.append(action)\n",
    "        return actions\n",
    "\n",
    "    def learn(self, memory):\n",
    "        if not memory.ready():\n",
    "            return\n",
    "\n",
    "        actor_states, states, actions, rewards, \\\n",
    "        actor_new_states, states_, dones = memory.sample_buffer()\n",
    "\n",
    "        device = self.agents[0].actor.device\n",
    "\n",
    "        states = T.tensor(states, dtype=T.float).to(device)\n",
    "        actions = T.tensor(actions, dtype=T.float).to(device)\n",
    "        rewards = T.tensor(rewards, dtype=T.float).to(device)\n",
    "        states_ = T.tensor(states_, dtype=T.float).to(device)\n",
    "        dones = T.tensor(dones).to(device)\n",
    "\n",
    "        all_agents_new_actions = []\n",
    "        all_agents_new_mu_actions = []\n",
    "        old_agents_actions = []\n",
    "\n",
    "        for agent_idx, agent in enumerate(self.agents):\n",
    "            new_states = T.tensor(actor_new_states[agent_idx], \n",
    "                                 dtype=T.float).to(device)\n",
    "\n",
    "            new_pi = agent.target_actor.forward(new_states)\n",
    "\n",
    "            all_agents_new_actions.append(new_pi)\n",
    "            mu_states = T.tensor(actor_states[agent_idx], \n",
    "                                 dtype=T.float).to(device)\n",
    "            pi = agent.actor.forward(mu_states)\n",
    "            all_agents_new_mu_actions.append(pi)\n",
    "            old_agents_actions.append(actions[agent_idx])\n",
    "\n",
    "        new_actions = T.cat([acts for acts in all_agents_new_actions], dim=1)\n",
    "        mu = T.cat([acts for acts in all_agents_new_mu_actions], dim=1)\n",
    "        old_actions = T.cat([acts for acts in old_agents_actions],dim=1)\n",
    "\n",
    "        for agent_idx, agent in enumerate(self.agents):\n",
    "            critic_value_ = agent.target_critic.forward(states_, new_actions).flatten()\n",
    "            critic_value_[dones[:,0]] = 0.0\n",
    "            critic_value = agent.critic.forward(states, old_actions).flatten()\n",
    "\n",
    "            target = rewards[:,agent_idx] + agent.gamma*critic_value_\n",
    "            \n",
    "            critic_loss = F.mse_loss(target, critic_value)\n",
    "            agent.critic.optimizer.zero_grad()\n",
    "            critic_loss.backward(retain_graph=True)\n",
    "            agent.critic.optimizer.step()\n",
    "\n",
    "            actor_loss = agent.critic.forward(states, mu).flatten()\n",
    "            actor_loss = -T.mean(actor_loss)\n",
    "            agent.actor.optimizer.zero_grad()\n",
    "            actor_loss.backward(retain_graph=True)\n",
    "            agent.actor.optimizer.step()\n",
    "\n",
    "            agent.update_network_parameters()"
   ]
  },
  {
   "cell_type": "code",
   "execution_count": 8,
   "id": "294a7cf4",
   "metadata": {
    "scrolled": true
   },
   "outputs": [
    {
     "data": {
      "text/plain": [
       "[2, 0]"
      ]
     },
     "execution_count": 8,
     "metadata": {},
     "output_type": "execute_result"
    }
   ],
   "source": [
    "import numpy as np\n",
    "#from maddpg import MADDPG\n",
    "#from buffer import MultiAgentReplayBuffer\n",
    "\n",
    "import gym\n",
    "from gym.spaces import prng      \n",
    "import pettingzoo # prng has been canceled\n",
    "\n",
    "# and change:\n",
    "#random_array = np.random.RandomState().rand(self.num_discrete_space)\n",
    "\n",
    "from make_env import make_env\n",
    "\n",
    "\n",
    "scenario = 'simple_adversary2'\n",
    "env = make_env(scenario)\n",
    "n_agents = env.n\n",
    "actor_dims = []\n",
    "for i in range(n_agents):\n",
    "    actor_dims.append(env.observation_space[i].shape[0])\n",
    "critic_dims = sum(actor_dims)\n",
    "n_actions = env.action_space[1].sample()\n",
    "n_actions"
   ]
  },
  {
   "cell_type": "code",
   "execution_count": 9,
   "id": "3201c310",
   "metadata": {},
   "outputs": [
    {
     "data": {
      "text/plain": [
       "True"
      ]
     },
     "execution_count": 9,
     "metadata": {},
     "output_type": "execute_result"
    }
   ],
   "source": [
    "a_list = [False, False, False]\n",
    "False in a_list"
   ]
  },
  {
   "cell_type": "code",
   "execution_count": 10,
   "id": "42513a94",
   "metadata": {},
   "outputs": [
    {
     "data": {
      "text/plain": [
       "'3.8.8'"
      ]
     },
     "execution_count": 10,
     "metadata": {},
     "output_type": "execute_result"
    }
   ],
   "source": [
    "#pip show gym\n",
    "from platform import python_version\n",
    "python_version()"
   ]
  },
  {
   "cell_type": "code",
   "execution_count": 11,
   "id": "b3fed447",
   "metadata": {},
   "outputs": [
    {
     "data": {
      "text/plain": [
       "array([-0.77705735, -0.68079757])"
      ]
     },
     "execution_count": 11,
     "metadata": {},
     "output_type": "execute_result"
    }
   ],
   "source": [
    "#import numpy as np\n",
    "np.random.uniform(-0.8, -0.6, 2)"
   ]
  },
  {
   "cell_type": "code",
   "execution_count": 12,
   "id": "bce9f609",
   "metadata": {},
   "outputs": [
    {
     "data": {
      "text/plain": [
       "1.3533603387825643"
      ]
     },
     "execution_count": 12,
     "metadata": {},
     "output_type": "execute_result"
    }
   ],
   "source": [
    "np.sqrt(np.sum(np.square(np.random.uniform(-0.8, -0.6, 2) - np.random.uniform(-0.5, +0.5, 2))))"
   ]
  },
  {
   "cell_type": "code",
   "execution_count": 13,
   "id": "6f4dc0c0",
   "metadata": {},
   "outputs": [
    {
     "data": {
      "text/plain": [
       "-0.1046235696735722"
      ]
     },
     "execution_count": 13,
     "metadata": {},
     "output_type": "execute_result"
    }
   ],
   "source": [
    "-min([0.1046235696735722, 0.9459605197053144, 1.2099744729757327])"
   ]
  },
  {
   "cell_type": "code",
   "execution_count": 14,
   "id": "1065cfc2",
   "metadata": {},
   "outputs": [
    {
     "data": {
      "text/plain": [
       "-2"
      ]
     },
     "execution_count": 14,
     "metadata": {},
     "output_type": "execute_result"
    }
   ],
   "source": [
    "-min([5, 5, 4, 2])"
   ]
  },
  {
   "cell_type": "code",
   "execution_count": 15,
   "id": "80f57f77",
   "metadata": {},
   "outputs": [
    {
     "data": {
      "text/plain": [
       "-0.03999999999999998"
      ]
     },
     "execution_count": 15,
     "metadata": {},
     "output_type": "execute_result"
    }
   ],
   "source": [
    "-np.square(0.7 - 0.5)"
   ]
  },
  {
   "cell_type": "code",
   "execution_count": 16,
   "id": "dd56e8e3",
   "metadata": {},
   "outputs": [
    {
     "data": {
      "text/plain": [
       "array([-0.69479192,  8.96625909, -0.19479192,  9.46625909])"
      ]
     },
     "execution_count": 16,
     "metadata": {},
     "output_type": "execute_result"
    }
   ],
   "source": [
    "ar1 = []\n",
    "ar2 = [-0.69479192,  8.96625909]\n",
    "ar3 = [-0.19479192,  9.46625909]\n",
    "\n",
    "ar1.append(ar2)\n",
    "ar1.append(ar3)\n",
    "\n",
    "np.concatenate(ar1)\n",
    "#ar1"
   ]
  },
  {
   "cell_type": "code",
   "execution_count": 17,
   "id": "82876474",
   "metadata": {},
   "outputs": [
    {
     "data": {
      "image/png": "[encoded data removed]",
      "text/plain": [
       "<Figure size 432x288 with 2 Axes>"
      ]
     },
     "metadata": {
      "needs_background": "light"
     },
     "output_type": "display_data"
    }
   ],
   "source": [
    "import matplotlib.pyplot as plt\n",
    "#data-points or markers\n",
    "values1 = [1, 5, 8, 9, 7, 11, 8, 12, 14, 9]\n",
    "values2 = range(len(values1))\n",
    "figure, axis  = plt.subplots(2, 1, constrained_layout=True)\n",
    "#figure.tight_layout()\n",
    "axis[0].plot(values2, values1, color='red',alpha=0.6)\n",
    "axis[0].set_title(\"Sports Watch Data\")\n",
    "axis[0].set_xlabel(\"Average Pulse\")\n",
    "axis[0].set_ylabel(\"Calorie Burnage\")\n",
    "axis[0].legend(['Agent Wins','Adversary Wins'],facecolor='w',loc='upper center',shadow=True,edgecolor='black',title='Example')\n",
    "axis[1].plot(values2, values1, color='red',alpha=0.6)\n",
    "axis[1].set_title(\"Sports Watch Data\")\n",
    "axis[1].set_xlabel(\"Average Pulse\")\n",
    "axis[1].set_ylabel(\"Calorie Burnage\")\n",
    "axis[1].legend(['Agent Wins','Adversary Wins'],facecolor='w',loc='upper center',shadow=True,edgecolor='black',title='Example')\n",
    "#plt.legend(['sine-wave','cosine-wave'],facecolor='w',loc='upper center',shadow=True,edgecolor='black',title='Example')\n",
    "\n",
    "\n",
    "#plt.savefig('plot14.png', dpi=300, bbox_inches='tight')\n",
    "plt.show()"
   ]
  },
  {
   "cell_type": "code",
   "execution_count": 18,
   "id": "f5609e79",
   "metadata": {},
   "outputs": [
    {
     "data": {
      "text/plain": [
       "array([-0.68164982, -0.67214009])"
      ]
     },
     "execution_count": 18,
     "metadata": {},
     "output_type": "execute_result"
    }
   ],
   "source": [
    "np.random.uniform(-0.8, -0.6, 2)"
   ]
  },
  {
   "cell_type": "code",
   "execution_count": 19,
   "id": "ea97b093",
   "metadata": {},
   "outputs": [
    {
     "data": {
      "text/plain": [
       "array([-0.6484174 , -0.64259786])"
      ]
     },
     "execution_count": 19,
     "metadata": {},
     "output_type": "execute_result"
    }
   ],
   "source": [
    "agent = np.random.uniform(-0.8, -0.6, 2)\n",
    "agent"
   ]
  },
  {
   "cell_type": "code",
   "execution_count": 20,
   "id": "55099a59",
   "metadata": {},
   "outputs": [
    {
     "data": {
      "text/plain": [
       "array([], shape=(0, 2), dtype=float64)"
      ]
     },
     "execution_count": 20,
     "metadata": {},
     "output_type": "execute_result"
    }
   ],
   "source": [
    "np.zeros(shape=(0,2))"
   ]
  },
  {
   "cell_type": "code",
   "execution_count": 21,
   "id": "99b27bfe",
   "metadata": {},
   "outputs": [
    {
     "data": {
      "text/plain": [
       "array([-0.6667413, -0.6316586])"
      ]
     },
     "execution_count": 21,
     "metadata": {},
     "output_type": "execute_result"
    }
   ],
   "source": [
    "import random\n",
    "#agent.state.p_pos = np.random.uniform(-1, +1, world.dim_p)\n",
    "adv_pos = []\n",
    "#adv_pos = np.array([])\n",
    "downLeft = np.random.uniform(-0.8, -0.6, 2)\n",
    "upRight = np.random.uniform(0.8, 0.6, 2)\n",
    "adv_pos.append(downLeft)\n",
    "adv_pos.append(upRight)\n",
    "rand_pos = random.choice(adv_pos)\n",
    "#rand_pos_np = np.array(rand_pos)\n",
    "             \n",
    "#agent.state.p_pos = np.random.uniform(-0.8, -0.6, world.dim_p)\n",
    "for i in range(3): \n",
    "    \n",
    "    agent = rand_pos\n",
    "    \n",
    "    \n",
    "    #print (agent)\n",
    "agent\n",
    "\n",
    "  "
   ]
  },
  {
   "cell_type": "code",
   "execution_count": 22,
   "id": "925862dc",
   "metadata": {},
   "outputs": [
    {
     "name": "stdout",
     "output_type": "stream",
     "text": [
      "[0.6756063  0.75475725]\n"
     ]
    }
   ],
   "source": [
    "adv_pos = []\n",
    "for a in range(3):\n",
    "    if len(adv_pos) == 0:  \n",
    "        agent = random.choice([np.random.uniform(-0.8, -0.6, 2), np.random.uniform(0.8, 0.6, 2)])\n",
    "        adv_pos.append(agent)\n",
    "        print(adv_pos[0])\n",
    "    else: \n",
    "        agent = adv_pos[0]\n",
    "        #print(adv_pos)\n",
    "    \n",
    "    \n",
    "#adv_pos"
   ]
  },
  {
   "cell_type": "code",
   "execution_count": 23,
   "id": "3b99a3bf",
   "metadata": {},
   "outputs": [
    {
     "data": {
      "text/plain": [
       "12"
      ]
     },
     "execution_count": 23,
     "metadata": {},
     "output_type": "execute_result"
    }
   ],
   "source": [
    "env.observation_space[0].shape[0]"
   ]
  },
  {
   "cell_type": "code",
   "execution_count": 24,
   "id": "070075ef",
   "metadata": {},
   "outputs": [
    {
     "data": {
      "text/plain": [
       "[0.43956158, 0.4571492, 0.30224243, 0.5186484, 0.8563329]"
      ]
     },
     "execution_count": 24,
     "metadata": {},
     "output_type": "execute_result"
    }
   ],
   "source": [
    "arr = ([0.43956158, 0.4571492 , 0.30224243, 0.5186484 , 0.8563329 ])\n",
    "arr"
   ]
  },
  {
   "cell_type": "code",
   "execution_count": 25,
   "id": "8c3344cc",
   "metadata": {},
   "outputs": [
    {
     "data": {
      "text/plain": [
       "array([0.68358263, 0.39849601, 0.9433725 , 0.18143577, 0.1053867 ])"
      ]
     },
     "execution_count": 25,
     "metadata": {},
     "output_type": "execute_result"
    }
   ],
   "source": [
    "np.random.uniform(low=0.1, high=1.1, size=(5,))"
   ]
  },
  {
   "cell_type": "code",
   "execution_count": 26,
   "id": "004def2e",
   "metadata": {},
   "outputs": [],
   "source": [
    "#OBS SPACE \n",
    "scenario = 'dynamicShield'\n",
    "#scenario = 'comTime'\n",
    "env = make_env(scenario)\n",
    "n_agents = env.n\n",
    "actor_dims = []\n",
    "for i in range(n_agents):\n",
    "    actor_dims.append(env.observation_space[i].shape[0])\n",
    "critic_dims = sum(actor_dims)\n",
    "\n",
    "#actor_dims\n",
    "\n",
    "#obs = env.reset()\n",
    "#actions = maddpg_agents.choose_action(obs)\n",
    "\n",
    "\n",
    "#for a in range(3):\n",
    "    #actions.append(env.action_space[a].sample()) \n",
    "    #actions.append(np.random.uniform(low=0.1, high=1.1, size=(5,)))\n",
    "    \n",
    " \n",
    "#actions\n",
    "            \n",
    "#obs_, reward, done, info = env.step(actions)\n",
    "#reward"
   ]
  },
  {
   "cell_type": "code",
   "execution_count": 27,
   "id": "2bdf9ba5",
   "metadata": {},
   "outputs": [
    {
     "data": {
      "text/plain": [
       "[28, 28, 28]"
      ]
     },
     "execution_count": 27,
     "metadata": {},
     "output_type": "execute_result"
    }
   ],
   "source": [
    "#OBS SPACE \n",
    "scenario = 'dynamicShield'\n",
    "#scenario = 'comTime'\n",
    "env = make_env(scenario)\n",
    "n_agents = env.n\n",
    "actor_dims = []\n",
    "for i in range(3):\n",
    "    actor_dims.append(env.observation_space[i].shape[0])\n",
    "critic_dims = sum(actor_dims)\n",
    "\n",
    "actor_dims"
   ]
  },
  {
   "cell_type": "code",
   "execution_count": 28,
   "id": "d06a8ac8",
   "metadata": {},
   "outputs": [],
   "source": [
    "#env.step([[0,1,1,1],0,0])"
   ]
  },
  {
   "cell_type": "code",
   "execution_count": 29,
   "id": "f24e8d56",
   "metadata": {},
   "outputs": [
    {
     "data": {
      "text/plain": [
       "4"
      ]
     },
     "execution_count": 29,
     "metadata": {},
     "output_type": "execute_result"
    }
   ],
   "source": [
    "env.action_space[1].sample()"
   ]
  },
  {
   "cell_type": "code",
   "execution_count": 30,
   "id": "3520a0a3",
   "metadata": {},
   "outputs": [
    {
     "data": {
      "text/plain": [
       "[0, 3, 3, 3]"
      ]
     },
     "execution_count": 30,
     "metadata": {},
     "output_type": "execute_result"
    }
   ],
   "source": [
    "#take random action \n",
    "actions_rand = []\n",
    "for a in range(4):\n",
    "    actions_rand.append(env.action_space[a].sample())\n",
    "    \n",
    "actions_rand"
   ]
  },
  {
   "cell_type": "code",
   "execution_count": 31,
   "id": "bcc2da80",
   "metadata": {},
   "outputs": [
    {
     "data": {
      "text/plain": [
       "[1, 1, 0, 1, 3, 2]"
      ]
     },
     "execution_count": 31,
     "metadata": {},
     "output_type": "execute_result"
    }
   ],
   "source": [
    "            #Baseline test !\n",
    "#actions = []\n",
    "#actions_adv = maddpg_agents.choose_action(obs)\n",
    "actions_adv = [1,1,0]\n",
    "\n",
    "            #actions_def = [] \n",
    "#actions.append(actions_adv)\n",
    "            \n",
    "for a in range(3):\n",
    "    actions_adv.append(env.action_space[a].sample())\n",
    "\n",
    "actions_adv"
   ]
  },
  {
   "cell_type": "code",
   "execution_count": 32,
   "id": "26d43808",
   "metadata": {},
   "outputs": [],
   "source": [
    "from random import randrange, uniform\n",
    "\n",
    "# randrange gives you an integral value\n",
    "irand = randrange(0, 10)\n",
    "\n",
    "# uniform gives you a floating-point value\n",
    "frand = uniform(0, 10)"
   ]
  },
  {
   "cell_type": "code",
   "execution_count": 33,
   "id": "05daa958",
   "metadata": {},
   "outputs": [
    {
     "data": {
      "text/plain": [
       "69.13679350327357"
      ]
     },
     "execution_count": 33,
     "metadata": {},
     "output_type": "execute_result"
    }
   ],
   "source": [
    "uniform(-100, 100)"
   ]
  },
  {
   "cell_type": "code",
   "execution_count": 34,
   "id": "06ba2132",
   "metadata": {},
   "outputs": [
    {
     "data": {
      "text/plain": [
       "28"
      ]
     },
     "execution_count": 34,
     "metadata": {},
     "output_type": "execute_result"
    }
   ],
   "source": [
    "env.observation_space[3].shape[0]"
   ]
  },
  {
   "cell_type": "code",
   "execution_count": 35,
   "id": "6546de70",
   "metadata": {},
   "outputs": [],
   "source": [
    "#actions = maddpg_agents.choose_action(obs)\n",
    "#actions\n",
    "#del actions[-1:]\n",
    "#actions"
   ]
  },
  {
   "cell_type": "code",
   "execution_count": 36,
   "id": "aef73c2d",
   "metadata": {
    "scrolled": true
   },
   "outputs": [
    {
     "name": "stdout",
     "output_type": "stream",
     "text": [
      "... loading checkpoint ...\n",
      "episode 100 average score 1003.4\n",
      "0\n",
      "{'n': [(70, 10), (70, 10), (70, 10), (70, 10), (70, 10), (70, 10)]}\n",
      "episode 200 average score 1047.6\n",
      "0\n",
      "{'n': [(140, 15), (140, 15), (140, 15), (140, 15), (140, 15), (140, 15)]}\n",
      "episode 300 average score 1140.9\n",
      "0\n",
      "{'n': [(200, 25), (200, 25), (200, 25), (200, 25), (200, 25), (200, 25)]}\n",
      "episode 400 average score 959.7\n",
      "0\n",
      "{'n': [(271, 36), (271, 36), (271, 36), (271, 36), (271, 36), (271, 36)]}\n",
      "episode 500 average score 1043.4\n",
      "0\n",
      "{'n': [(339, 45), (339, 45), (339, 45), (339, 45), (339, 45), (339, 45)]}\n",
      "episode 600 average score 856.3\n",
      "0\n",
      "{'n': [(419, 50), (419, 50), (419, 50), (419, 50), (419, 50), (419, 50)]}\n",
      "episode 700 average score 899.3\n",
      "0\n",
      "{'n': [(503, 52), (503, 52), (503, 52), (503, 52), (503, 52), (503, 52)]}\n",
      "episode 800 average score 1077.6\n",
      "0\n",
      "{'n': [(576, 66), (576, 66), (576, 66), (576, 66), (576, 66), (576, 66)]}\n",
      "episode 900 average score 1021.6\n",
      "0\n",
      "{'n': [(642, 74), (642, 74), (642, 74), (642, 74), (642, 74), (642, 74)]}\n",
      "episode 1000 average score 1120.0\n",
      "0\n",
      "{'n': [(719, 79), (719, 79), (719, 79), (719, 79), (719, 79), (719, 79)]}\n",
      "episode 1100 average score 1040.6\n",
      "0\n",
      "{'n': [(796, 85), (796, 85), (796, 85), (796, 85), (796, 85), (796, 85)]}\n",
      "episode 1200 average score 1097.4\n",
      "0\n",
      "{'n': [(867, 93), (867, 93), (867, 93), (867, 93), (867, 93), (867, 93)]}\n",
      "episode 1300 average score 1035.6\n",
      "0\n",
      "{'n': [(947, 99), (947, 99), (947, 99), (947, 99), (947, 99), (947, 99)]}\n",
      "episode 1400 average score 988.3\n",
      "0\n",
      "{'n': [(1013, 108), (1013, 108), (1013, 108), (1013, 108), (1013, 108), (1013, 108)]}\n",
      "episode 1500 average score 999.4\n",
      "0\n",
      "{'n': [(1089, 113), (1089, 113), (1089, 113), (1089, 113), (1089, 113), (1089, 113)]}\n",
      "episode 1600 average score 1164.9\n",
      "0\n",
      "{'n': [(1156, 122), (1156, 122), (1156, 122), (1156, 122), (1156, 122), (1156, 122)]}\n",
      "episode 1700 average score 982.1\n",
      "0\n",
      "{'n': [(1222, 130), (1222, 130), (1222, 130), (1222, 130), (1222, 130), (1222, 130)]}\n",
      "episode 1800 average score 1017.8\n",
      "0\n",
      "{'n': [(1294, 136), (1294, 136), (1294, 136), (1294, 136), (1294, 136), (1294, 136)]}\n",
      "episode 1900 average score 1068.7\n",
      "0\n",
      "{'n': [(1369, 140), (1369, 140), (1369, 140), (1369, 140), (1369, 140), (1369, 140)]}\n",
      "episode 2000 average score 1048.7\n",
      "0\n",
      "{'n': [(1439, 147), (1439, 147), (1439, 147), (1439, 147), (1439, 147), (1439, 147)]}\n",
      "episode 2100 average score 1108.1\n",
      "0\n",
      "{'n': [(1522, 149), (1522, 149), (1522, 149), (1522, 149), (1522, 149), (1522, 149)]}\n",
      "episode 2200 average score 1052.1\n",
      "0\n",
      "{'n': [(1591, 157), (1591, 157), (1591, 157), (1591, 157), (1591, 157), (1591, 157)]}\n",
      "episode 2300 average score 1028.3\n",
      "0\n",
      "{'n': [(1663, 163), (1663, 163), (1663, 163), (1663, 163), (1663, 163), (1663, 163)]}\n",
      "episode 2400 average score 936.3\n",
      "0\n",
      "{'n': [(1734, 170), (1734, 170), (1734, 170), (1734, 170), (1734, 170), (1734, 170)]}\n",
      "episode 2500 average score 1015.0\n",
      "0\n",
      "{'n': [(1801, 182), (1801, 182), (1801, 182), (1801, 182), (1801, 182), (1801, 182)]}\n",
      "episode 2600 average score 1080.1\n",
      "0\n",
      "{'n': [(1870, 186), (1870, 186), (1870, 186), (1870, 186), (1870, 186), (1870, 186)]}\n",
      "episode 2700 average score 1008.3\n",
      "0\n",
      "{'n': [(1942, 196), (1942, 196), (1942, 196), (1942, 196), (1942, 196), (1942, 196)]}\n",
      "episode 2800 average score 882.0\n",
      "0\n",
      "{'n': [(2004, 206), (2004, 206), (2004, 206), (2004, 206), (2004, 206), (2004, 206)]}\n",
      "episode 2900 average score 949.5\n",
      "0\n",
      "{'n': [(2073, 217), (2073, 217), (2073, 217), (2073, 217), (2073, 217), (2073, 217)]}\n",
      "episode 3000 average score 908.4\n",
      "0\n",
      "{'n': [(2148, 225), (2148, 225), (2148, 225), (2148, 225), (2148, 225), (2148, 225)]}\n",
      "episode 3100 average score 904.1\n",
      "0\n",
      "{'n': [(2216, 233), (2216, 233), (2216, 233), (2216, 233), (2216, 233), (2216, 233)]}\n",
      "episode 3200 average score 1053.3\n",
      "0\n",
      "{'n': [(2290, 237), (2290, 237), (2290, 237), (2290, 237), (2290, 237), (2290, 237)]}\n",
      "episode 3300 average score 928.1\n",
      "0\n",
      "{'n': [(2358, 248), (2358, 248), (2358, 248), (2358, 248), (2358, 248), (2358, 248)]}\n",
      "episode 3400 average score 1111.5\n",
      "0\n",
      "{'n': [(2423, 255), (2423, 255), (2423, 255), (2423, 255), (2423, 255), (2423, 255)]}\n",
      "episode 3500 average score 1143.4\n",
      "0\n",
      "{'n': [(2489, 265), (2489, 265), (2489, 265), (2489, 265), (2489, 265), (2489, 265)]}\n",
      "episode 3600 average score 922.7\n",
      "0\n",
      "{'n': [(2563, 272), (2563, 272), (2563, 272), (2563, 272), (2563, 272), (2563, 272)]}\n",
      "episode 3700 average score 1123.3\n",
      "0\n",
      "{'n': [(2636, 278), (2636, 278), (2636, 278), (2636, 278), (2636, 278), (2636, 278)]}\n",
      "episode 3800 average score 1091.8\n",
      "0\n",
      "{'n': [(2707, 287), (2707, 287), (2707, 287), (2707, 287), (2707, 287), (2707, 287)]}\n",
      "episode 3900 average score 1050.1\n",
      "0\n",
      "{'n': [(2776, 293), (2776, 293), (2776, 293), (2776, 293), (2776, 293), (2776, 293)]}\n",
      "episode 4000 average score 1037.1\n",
      "0\n",
      "{'n': [(2850, 299), (2850, 299), (2850, 299), (2850, 299), (2850, 299), (2850, 299)]}\n",
      "episode 4100 average score 968.0\n",
      "0\n",
      "{'n': [(2916, 305), (2916, 305), (2916, 305), (2916, 305), (2916, 305), (2916, 305)]}\n",
      "episode 4200 average score 1142.2\n",
      "0\n",
      "{'n': [(2983, 307), (2983, 307), (2983, 307), (2983, 307), (2983, 307), (2983, 307)]}\n",
      "episode 4300 average score 1115.5\n",
      "0\n",
      "{'n': [(3056, 315), (3056, 315), (3056, 315), (3056, 315), (3056, 315), (3056, 315)]}\n",
      "episode 4400 average score 1093.4\n",
      "0\n",
      "{'n': [(3142, 319), (3142, 319), (3142, 319), (3142, 319), (3142, 319), (3142, 319)]}\n",
      "episode 4500 average score 1107.4\n",
      "0\n",
      "{'n': [(3219, 322), (3219, 322), (3219, 322), (3219, 322), (3219, 322), (3219, 322)]}\n",
      "episode 4600 average score 1090.5\n",
      "0\n",
      "{'n': [(3280, 329), (3280, 329), (3280, 329), (3280, 329), (3280, 329), (3280, 329)]}\n",
      "episode 4700 average score 974.5\n",
      "0\n",
      "{'n': [(3360, 334), (3360, 334), (3360, 334), (3360, 334), (3360, 334), (3360, 334)]}\n",
      "episode 4800 average score 1125.5\n",
      "0\n",
      "{'n': [(3436, 338), (3436, 338), (3436, 338), (3436, 338), (3436, 338), (3436, 338)]}\n",
      "episode 4900 average score 1036.7\n",
      "0\n",
      "{'n': [(3511, 342), (3511, 342), (3511, 342), (3511, 342), (3511, 342), (3511, 342)]}\n",
      "episode 5000 average score 959.9\n",
      "0\n",
      "{'n': [(3581, 351), (3581, 351), (3581, 351), (3581, 351), (3581, 351), (3581, 351)]}\n",
      "episode 5100 average score 1012.5\n",
      "0\n",
      "{'n': [(3653, 359), (3653, 359), (3653, 359), (3653, 359), (3653, 359), (3653, 359)]}\n",
      "episode 5200 average score 1023.9\n",
      "0\n",
      "{'n': [(3721, 366), (3721, 366), (3721, 366), (3721, 366), (3721, 366), (3721, 366)]}\n",
      "episode 5300 average score 1043.5\n",
      "0\n",
      "{'n': [(3790, 375), (3790, 375), (3790, 375), (3790, 375), (3790, 375), (3790, 375)]}\n",
      "episode 5400 average score 1073.3\n",
      "0\n",
      "{'n': [(3867, 379), (3867, 379), (3867, 379), (3867, 379), (3867, 379), (3867, 379)]}\n",
      "episode 5500 average score 1168.6\n",
      "0\n",
      "{'n': [(3936, 384), (3936, 384), (3936, 384), (3936, 384), (3936, 384), (3936, 384)]}\n",
      "episode 5600 average score 1018.4\n",
      "0\n",
      "{'n': [(3995, 395), (3995, 395), (3995, 395), (3995, 395), (3995, 395), (3995, 395)]}\n",
      "episode 5700 average score 923.5\n",
      "0\n",
      "{'n': [(4066, 401), (4066, 401), (4066, 401), (4066, 401), (4066, 401), (4066, 401)]}\n",
      "episode 5800 average score 1041.9\n",
      "0\n",
      "{'n': [(4133, 407), (4133, 407), (4133, 407), (4133, 407), (4133, 407), (4133, 407)]}\n",
      "episode 5900 average score 950.8\n",
      "0\n",
      "{'n': [(4209, 413), (4209, 413), (4209, 413), (4209, 413), (4209, 413), (4209, 413)]}\n",
      "episode 6000 average score 1127.5\n",
      "0\n",
      "{'n': [(4280, 418), (4280, 418), (4280, 418), (4280, 418), (4280, 418), (4280, 418)]}\n",
      "episode 6100 average score 976.1\n",
      "0\n",
      "{'n': [(4351, 426), (4351, 426), (4351, 426), (4351, 426), (4351, 426), (4351, 426)]}\n",
      "episode 6200 average score 1109.7\n",
      "0\n",
      "{'n': [(4420, 433), (4420, 433), (4420, 433), (4420, 433), (4420, 433), (4420, 433)]}\n",
      "episode 6300 average score 927.6\n",
      "0\n",
      "{'n': [(4487, 445), (4487, 445), (4487, 445), (4487, 445), (4487, 445), (4487, 445)]}\n",
      "episode 6400 average score 1050.8\n",
      "0\n",
      "{'n': [(4555, 452), (4555, 452), (4555, 452), (4555, 452), (4555, 452), (4555, 452)]}\n",
      "episode 6500 average score 977.4\n",
      "0\n",
      "{'n': [(4625, 459), (4625, 459), (4625, 459), (4625, 459), (4625, 459), (4625, 459)]}\n",
      "episode 6600 average score 1061.1\n",
      "0\n",
      "{'n': [(4693, 464), (4693, 464), (4693, 464), (4693, 464), (4693, 464), (4693, 464)]}\n",
      "episode 6700 average score 1035.5\n",
      "0\n",
      "{'n': [(4765, 471), (4765, 471), (4765, 471), (4765, 471), (4765, 471), (4765, 471)]}\n",
      "episode 6800 average score 1162.4\n",
      "0\n",
      "{'n': [(4825, 480), (4825, 480), (4825, 480), (4825, 480), (4825, 480), (4825, 480)]}\n",
      "episode 6900 average score 1031.4\n",
      "0\n",
      "{'n': [(4903, 484), (4903, 484), (4903, 484), (4903, 484), (4903, 484), (4903, 484)]}\n"
     ]
    },
    {
     "name": "stdout",
     "output_type": "stream",
     "text": [
      "episode 7000 average score 1033.6\n",
      "0\n",
      "{'n': [(4976, 490), (4976, 490), (4976, 490), (4976, 490), (4976, 490), (4976, 490)]}\n",
      "episode 7100 average score 1096.2\n",
      "0\n",
      "{'n': [(5054, 496), (5054, 496), (5054, 496), (5054, 496), (5054, 496), (5054, 496)]}\n",
      "episode 7200 average score 1052.1\n",
      "0\n",
      "{'n': [(5129, 506), (5129, 506), (5129, 506), (5129, 506), (5129, 506), (5129, 506)]}\n",
      "episode 7300 average score 1065.9\n",
      "0\n",
      "{'n': [(5202, 512), (5202, 512), (5202, 512), (5202, 512), (5202, 512), (5202, 512)]}\n",
      "episode 7400 average score 1086.9\n",
      "0\n",
      "{'n': [(5269, 521), (5269, 521), (5269, 521), (5269, 521), (5269, 521), (5269, 521)]}\n",
      "episode 7500 average score 1049.4\n",
      "0\n",
      "{'n': [(5343, 531), (5343, 531), (5343, 531), (5343, 531), (5343, 531), (5343, 531)]}\n",
      "episode 7600 average score 948.6\n",
      "0\n",
      "{'n': [(5414, 537), (5414, 537), (5414, 537), (5414, 537), (5414, 537), (5414, 537)]}\n",
      "episode 7700 average score 847.7\n",
      "0\n",
      "{'n': [(5489, 543), (5489, 543), (5489, 543), (5489, 543), (5489, 543), (5489, 543)]}\n",
      "episode 7800 average score 1091.6\n",
      "0\n",
      "{'n': [(5559, 551), (5559, 551), (5559, 551), (5559, 551), (5559, 551), (5559, 551)]}\n",
      "episode 7900 average score 1133.3\n",
      "0\n",
      "{'n': [(5621, 557), (5621, 557), (5621, 557), (5621, 557), (5621, 557), (5621, 557)]}\n",
      "episode 8000 average score 1137.0\n",
      "0\n",
      "{'n': [(5693, 563), (5693, 563), (5693, 563), (5693, 563), (5693, 563), (5693, 563)]}\n",
      "episode 8100 average score 1080.8\n",
      "0\n",
      "{'n': [(5758, 575), (5758, 575), (5758, 575), (5758, 575), (5758, 575), (5758, 575)]}\n",
      "episode 8200 average score 1017.3\n",
      "0\n",
      "{'n': [(5826, 581), (5826, 581), (5826, 581), (5826, 581), (5826, 581), (5826, 581)]}\n",
      "episode 8300 average score 1025.9\n",
      "0\n",
      "{'n': [(5890, 593), (5890, 593), (5890, 593), (5890, 593), (5890, 593), (5890, 593)]}\n",
      "episode 8400 average score 1031.2\n",
      "0\n",
      "{'n': [(5961, 600), (5961, 600), (5961, 600), (5961, 600), (5961, 600), (5961, 600)]}\n",
      "episode 8500 average score 1010.8\n",
      "0\n",
      "{'n': [(6024, 604), (6024, 604), (6024, 604), (6024, 604), (6024, 604), (6024, 604)]}\n",
      "episode 8600 average score 903.7\n",
      "0\n",
      "{'n': [(6098, 611), (6098, 611), (6098, 611), (6098, 611), (6098, 611), (6098, 611)]}\n",
      "episode 8700 average score 932.0\n",
      "0\n",
      "{'n': [(6170, 617), (6170, 617), (6170, 617), (6170, 617), (6170, 617), (6170, 617)]}\n",
      "episode 8800 average score 912.0\n",
      "0\n",
      "{'n': [(6246, 625), (6246, 625), (6246, 625), (6246, 625), (6246, 625), (6246, 625)]}\n",
      "episode 8900 average score 1085.5\n",
      "0\n",
      "{'n': [(6316, 633), (6316, 633), (6316, 633), (6316, 633), (6316, 633), (6316, 633)]}\n"
     ]
    },
    {
     "data": {
      "image/png": "[encoded data removed]",
      "text/plain": [
       "<Figure size 432x288 with 2 Axes>"
      ]
     },
     "metadata": {
      "needs_background": "light"
     },
     "output_type": "display_data"
    }
   ],
   "source": [
    "###### import numpy as np\n",
    "import random\n",
    "#from maddpg import MADDPG\n",
    "#from buffer import MultiAgentReplayBuffer\n",
    "\n",
    "import gym\n",
    "from gym.spaces import prng             # prng has been canceled\n",
    "\n",
    "# and change:\n",
    "#random_array = np.random.RandomState().rand(self.num_discrete_space)\n",
    "\n",
    "from make_env import make_env\n",
    "\n",
    "def obs_list_to_state_vector(observation):\n",
    "    state = np.array([])\n",
    "    for obs in observation:\n",
    "        state = np.concatenate([state, obs])\n",
    "    return state\n",
    "\n",
    "if __name__ == '__main__':\n",
    "    #scenario = 'simple_push'\n",
    "    #scenario = 'simple_adversary'\n",
    "    #scenario = 'simple_adversary3'\n",
    "    \n",
    "    #scenario = 'dynamicShield'\n",
    "    scenario = 'comTime'\n",
    "    \n",
    "    #scenario = 'comModified'\n",
    "    \n",
    "    env = make_env(scenario)\n",
    "    n_agents = env.n\n",
    "    \n",
    "    #Baseline test \n",
    "    n_smart_adv = 3\n",
    "    \n",
    "    \n",
    "    \n",
    "    actor_dims = []\n",
    "    #for i in range(n_smart_adv):\n",
    "    for i in range(n_agents):\n",
    "        actor_dims.append(env.observation_space[i].shape[0])\n",
    "    critic_dims = sum(actor_dims)\n",
    "    \n",
    "    \n",
    "    #Baseline test \n",
    "    #actor_dims_mem = []\n",
    "    #for i in range(n_smart_adv):\n",
    "    #for i in range(n_agents):\n",
    "        #actor_dims_mem.append(env.observation_space[i].shape[0])\n",
    "    #critic_dims_mem = sum(actor_dims_mem)\n",
    "     \n",
    "\n",
    "    # action space is a list of arrays, assume each agent has same action space\n",
    "    #n_actions = env.action_space[0].n\n",
    "    \n",
    "    #HARDCODING\n",
    "    #n_actions = 5\n",
    "    \n",
    "    #n_actions = 11\n",
    "    #n_actions = 6\n",
    "    \n",
    "    #COMTIME VERSION 1 \n",
    "    n_actions = 8\n",
    "    #5+4\n",
    "    \n",
    "    #n_actions = 9 \n",
    "    \n",
    "    #Can these be only attackers? \n",
    "    maddpg_agents = MADDPG(actor_dims, critic_dims, n_agents, n_actions, \n",
    "                           fc1=64, fc2=64,  \n",
    "                           alpha=0.01, beta=0.01, scenario=scenario,\n",
    "                           chkpt_dir='tmp/maddpg/')\n",
    "\n",
    "    #1000000\n",
    "    \n",
    "    \n",
    "    memory = MultiAgentReplayBuffer(1000000, critic_dims, actor_dims, \n",
    "                        n_actions, n_agents, batch_size=1024)\n",
    "\n",
    "    PRINT_INTERVAL = 100\n",
    "    N_GAMES = 9000\n",
    "    #N_GAMES = 900000\n",
    "    \n",
    "    #MAX_STEPS = 50\n",
    "    MAX_STEPS = 35\n",
    "    #MAX_STEPS = 100\n",
    "    total_steps = 0\n",
    "    \n",
    "    \n",
    "    score_history = []\n",
    "    \n",
    "    #score_history_def = []\n",
    "    #score_history_att = []\n",
    "    \n",
    "    \n",
    "    #evaluate = False\n",
    "    evaluate = True\n",
    "    best_score = 0\n",
    "    \n",
    "    agent_wins = []\n",
    "    adv_wins = []\n",
    "    \n",
    "    \n",
    "    \n",
    "    avg_score_hist = []\n",
    "    \n",
    "    #avg_score_hist_def = []\n",
    "    #avg_score_hist_att = []\n",
    "    \n",
    "    maddpg_agents.load_checkpoint()\n",
    "    #if evaluate:\n",
    "        #maddpg_agents.load_checkpoint()\n",
    "\n",
    "    for i in range(N_GAMES):\n",
    "        obs = env.reset()\n",
    "        score = 0\n",
    "        #score_def = 0\n",
    "        done = [False]*n_agents\n",
    "        episode_step = 0\n",
    "        \n",
    "        \n",
    "        while not any(done):\n",
    "            #if evaluate:\n",
    "                #env.render()\n",
    "                #time.sleep(0.2)\n",
    "\n",
    "                \n",
    "            #ADD BASELINE \n",
    "            #actions = []\n",
    "            #for a in range(n_agents):\n",
    "            #    actions.append(env.action_space[a].sample())\n",
    "\n",
    "                \n",
    "            \n",
    "            \n",
    "            actions = maddpg_agents.choose_action(obs)\n",
    "            \n",
    "            #Baseline test !\n",
    "            #del actions[-3:]\n",
    "            \n",
    "            \n",
    "            # 3 == num of defenders ! \n",
    "            #adding random actions for defenders \n",
    "            #for a in range(3):\n",
    "                #actions.append(env.action_space[a].sample())\n",
    "                #actions.append(np.random.uniform(low=0.1, high=1.1, size=(5,)))\n",
    "                #actions.append(np.random.uniform(low=0.1, high=0.2, size=(5,)))\n",
    "                \n",
    "                \n",
    "            #baseline test end \n",
    "            \n",
    "            \n",
    "            \n",
    "            #actions = maddpg_agents.choose_action(obs)\n",
    "            \n",
    "            obs_, reward, done, info = env.step(actions)\n",
    "            \n",
    "\n",
    "            state = obs_list_to_state_vector(obs)\n",
    "            state_ = obs_list_to_state_vector(obs_)\n",
    "            \n",
    "\n",
    "\n",
    "\n",
    "            if (episode_step >= MAX_STEPS) or (True in done):\n",
    "            # or (True in done)\n",
    "                done = [True]*n_agents\n",
    "\n",
    "            memory.store_transition(obs, state, actions, reward, obs_, state_, done)\n",
    "\n",
    "            if total_steps % 100 == 0 and not evaluate:\n",
    "                maddpg_agents.learn(memory)\n",
    "\n",
    "            obs = obs_\n",
    "\n",
    "            #Score is the sum of rewards of each agent \n",
    "            score += sum(reward)\n",
    "            \n",
    "            #score_def +=sum()\n",
    "            \n",
    "            total_steps += 1\n",
    "            episode_step += 1\n",
    "        \n",
    "        \n",
    "        score_history.append(score)\n",
    "        #Average score takes the mean of the last 100 scores (total rewards per episode)\n",
    "        avg_score = np.mean(score_history[-100:])\n",
    "        \n",
    "        \n",
    "        avg_score_hist.append(avg_score)\n",
    "        \n",
    "        agent_wins.append(info[\"n\"][0][0])\n",
    "        adv_wins.append(info[\"n\"][0][1])\n",
    "        \n",
    "        if not evaluate:\n",
    "            \n",
    "            #BEST SCORE COUNT AFTER 100 STEPS ?? \n",
    "            if (avg_score > best_score) and (i > 90):\n",
    "                maddpg_agents.save_checkpoint()\n",
    "                best_score = avg_score\n",
    "        if i % PRINT_INTERVAL == 0 and i > 0:\n",
    "            print('episode', i, 'average score {:.1f}'.format(avg_score))\n",
    "            print(best_score)\n",
    "            print(info)\n",
    "\n",
    "    \n",
    "\n",
    "    figure, axis  = plt.subplots(2, 1, constrained_layout=True)\n",
    "    \n",
    "    axis[0].plot(range(N_GAMES), agent_wins, color='blue',alpha=0.6)\n",
    "    axis[0].plot(range(N_GAMES), adv_wins, color='red',alpha=0.6)\n",
    "    axis[0].grid()\n",
    "    axis[0].set_title(\"3 agents, 4 adversaries\")\n",
    "    axis[0].set_xlabel(\"Episodes\")\n",
    "    axis[0].set_ylabel(\"Wins\")\n",
    "    axis[0].legend(['Agent Wins','Adversary Wins'],facecolor='w',loc='upper center',shadow=True,edgecolor='black')\n",
    "    \n",
    "    \n",
    "    \n",
    "\n",
    "    axis[1].plot(range(N_GAMES), avg_score_hist, color='red',alpha=0.6)\n",
    "    axis[1].grid()\n",
    "    axis[1].set_title(\"Average reward\")\n",
    "    axis[1].set_xlabel(\"Episodes\")\n",
    "    axis[1].set_ylabel(\"Score\")\n",
    "    \n",
    "    #axis[2].plot(range(N_GAMES), avg_score_hist, color='red',alpha=0.6)\n",
    "    #axis[2].plot(range(N_GAMES), avg_score_hist, color='blue',alpha=0.6)\n",
    "    #axis[2].grid()\n",
    "    #axis[2].set_title(\"Average reward\")\n",
    "    #axis[2].set_xlabel(\"Episodes\")\n",
    "    #axis[2].set_ylabel(\"Score\")    \n",
    "    #axis[2].legend(['Agent Reward','Adversary Reward'],facecolor='w',loc='upper center',shadow=True,edgecolor='black')\n",
    " \n",
    "    \n",
    "    \n",
    "    #plt.savefig('CT_3x4_900k_NEW2', dpi=300, bbox_inches='tight')\n",
    "    \n",
    "    plt.show()\n",
    "            \n",
    "            \n",
    "            \n",
    "        # N OF AGENT WINS - info[\"n\"][0][0], N OF BAD AGENTS WINS - info[\"n\"][0][1]\n",
    "        \n",
    "            \n",
    "\n",
    "        \n"
   ]
  },
  {
   "cell_type": "code",
   "execution_count": 37,
   "id": "bbfba490",
   "metadata": {},
   "outputs": [
    {
     "data": {
      "text/plain": [
       "9000"
      ]
     },
     "execution_count": 37,
     "metadata": {},
     "output_type": "execute_result"
    }
   ],
   "source": [
    "len(avg_score_hist)\n",
    "#3x4\n",
    "#AG WINS, ADV WINS \n",
    "#204539, 73989\n",
    "#OVERALL EPISODES \n",
    "#426813\n",
    "\n",
    "\n",
    "#3x3 \n",
    "#393758, 110238\n",
    "#Overall\n",
    "#667000 \n",
    "\n",
    "\n",
    "#3x3DS\n",
    "#episode 591500 average score 1709.6\n",
    "#2263.66139841089\n",
    "#{'n': [(161294, 427084), (161294, 427084), (161294, 427084), (161294, 427084), (161294, 427084), (161294, 427084)]}\n",
    "\n",
    "\n",
    "#episode 529100 average score 1195.0\n",
    "#2014.104738683792\n",
    "#{'n': [(187614, 339461), (187614, 339461), (187614, 339461), (187614, 339461), (187614, 339461), (187614, 339461), (187614, 339461)]}\n",
    "\n",
    "#episode 575700 average score 493.0\n",
    "#701.4217894361759\n",
    "#{'n': [(178589, 393609), (178589, 393609), (178589, 393609), (178589, 393609), (178589, 393609), (178589, 393609), (178589, 393609)]}"
   ]
  },
  {
   "cell_type": "code",
   "execution_count": 38,
   "id": "af0a72de",
   "metadata": {},
   "outputs": [
    {
     "data": {
      "text/plain": [
       "range(0, 9000)"
      ]
     },
     "execution_count": 38,
     "metadata": {},
     "output_type": "execute_result"
    }
   ],
   "source": [
    "range(len(agent_wins))"
   ]
  },
  {
   "cell_type": "code",
   "execution_count": 39,
   "id": "9776a679",
   "metadata": {},
   "outputs": [
    {
     "data": {
      "text/plain": [
       "0.0003000126434657216"
      ]
     },
     "execution_count": 39,
     "metadata": {},
     "output_type": "execute_result"
    }
   ],
   "source": [
    "import math \n",
    "\n",
    "ci_list = []\n",
    "for i in range(len(agent_wins)):\n",
    "    if i != 0:\n",
    "        ci_list.append(agent_wins[i]/i)\n",
    "        #print(agent_wins[i]/i)\n",
    "        \n",
    "arr = np.array(ci_list)\n",
    "\n",
    "n_obsCi = len(arr)\n",
    "stdCi = arr.std()\n",
    "meanCi = arr.mean()\n",
    "#Conf Int = 95%\n",
    "z = 1.96\n",
    "\n",
    "a = stdCi/math.sqrt(n_obsCi)\n",
    "ciLow = meanCi - z*a \n",
    "ciHigh = meanCi + z*a \n",
    "#ciHigh - ciLow\n",
    "ci = z*a\n",
    "#ciCT23 = z*a = 0.00017641193629927004\n",
    "#ciCT33 = z*a = 0.00014272008378537855\n",
    "#ciCT43 = z*a = 0.0002941661169911384\n",
    "ci"
   ]
  },
  {
   "cell_type": "code",
   "execution_count": 40,
   "id": "d6554d88",
   "metadata": {},
   "outputs": [
    {
     "data": {
      "text/plain": [
       "0.014520467937040591"
      ]
     },
     "execution_count": 40,
     "metadata": {},
     "output_type": "execute_result"
    }
   ],
   "source": [
    "arr.std()"
   ]
  },
  {
   "cell_type": "code",
   "execution_count": 41,
   "id": "ee6f1279",
   "metadata": {},
   "outputs": [
    {
     "data": {
      "text/plain": [
       "8999"
      ]
     },
     "execution_count": 41,
     "metadata": {},
     "output_type": "execute_result"
    }
   ],
   "source": [
    "arr = np.array(ci_list)\n",
    "len(arr)"
   ]
  },
  {
   "cell_type": "code",
   "execution_count": 48,
   "id": "5933d955",
   "metadata": {},
   "outputs": [
    {
     "data": {
      "text/plain": [
       "0.7095555555555556"
      ]
     },
     "execution_count": 48,
     "metadata": {},
     "output_type": "execute_result"
    }
   ],
   "source": [
    "agent_wins[-1]/len(agent_wins)"
   ]
  },
  {
   "cell_type": "code",
   "execution_count": 43,
   "id": "24e82d60",
   "metadata": {},
   "outputs": [],
   "source": [
    "#NEW\n",
    "#Def_win_rate_DS_3x2 =  agent_wins[-1]/len(agent_wins)\n",
    "#6k\n",
    "Def_win_rate_DS_3x2 = 0.931\n",
    "\n",
    "#Def_win_rate_DS_2x3 =  agent_wins[-1]/len(agent_wins)\n",
    "#Def_win_rate_DS_2x3"
   ]
  },
  {
   "cell_type": "code",
   "execution_count": 44,
   "id": "fa0093cb",
   "metadata": {},
   "outputs": [],
   "source": [
    "\n",
    "\n",
    "#Def_win_rate_CT_3x2 =  agent_wins[-1]/len(agent_wins)\n",
    "#\n",
    "#Def_win_rate_CT_3x2 = 0.63\n",
    "Def_win_rate_CT_3x2 = 0.57748\n",
    "\n",
    "\n",
    "#Def_win_rate_CT_2x2 =  agent_wins[-1]/len(agent_wins)\n",
    "#\n",
    "Def_win_rate_CT_2x3 = 0.303\n",
    "\n",
    "\n",
    "\n",
    "#Def_win_rate_CT_3x3 =  agent_wins[-1]/len(agent_wins)\n",
    "#7k\n",
    "#Def_win_rate_CT_3x3 = 0.6615602836879433\n",
    "Def_win_rate_CT_3x3 = 0.7095555555555556\n",
    "\n",
    "#Def_win_rate_CT_4x3 =  agent_wins[-1]/len(agent_wins)\n",
    "#9.5k\n",
    "#Def_win_rate_CT_4x3 = 0.6054238691646827\n",
    "\n",
    "#NEW \n",
    "#18k\n",
    "Def_win_rate_CT_4x3 = 0.75\n",
    "\n",
    "\n",
    "\n",
    "#Def_win_rate_CT_3x4 =  agent_wins[-1]/len(agent_wins)\n",
    "#7.7k \n",
    "#But  BAs win rate is 0.23 \n",
    "Def_win_rate_CT_3x4 = 0.4408697863682604\n",
    "\n",
    "\n",
    "\n",
    "#Def_win_rate_DS_3x3 =  agent_wins[-1]/len(agent_wins)\n",
    "#\n",
    "Def_win_rate_DS_3x2 = 0.83\n",
    "\n",
    "\n",
    "#Def_win_rate_DS_3x3 =  agent_wins[-1]/len(agent_wins)\n",
    "#\n",
    "Def_win_rate_DS_2x3 = 0.3\n",
    "\n",
    "\n",
    "#Def_win_rate_DS_3x3 =  agent_wins[-1]/len(agent_wins)\n",
    "#7.5\n",
    "Def_win_rate_DS_3x3 = 0.621012391247034\n",
    "\n",
    "#Def_win_rate_DS_4x3 =  agent_wins[-1]/len(agent_wins)\n",
    "#10k\n",
    "Def_win_rate_DS_4x3 = 0.5030463836477987\n",
    "\n",
    "#Def_win_rate_DS_3x4 =  agent_wins[-1]/len(agent_wins)\n",
    "#9.5k\n",
    "Def_win_rate_DS_3x4 = 0.3646356783919598"
   ]
  },
  {
   "cell_type": "code",
   "execution_count": 45,
   "id": "aa7b5ee7",
   "metadata": {},
   "outputs": [],
   "source": [
    "#Def_win_rate_DS_3x2 =  agent_wins[-1]/len(agent_wins)\n",
    "#Def_win_rate_DS_3x2\n",
    "\n",
    "#Def_win_rate_DS_3x2_35steps = 0.7122015915119363\n",
    "#Def_win_rate_DS_3x2_50steps = 0.6782509614015098\n",
    "#Def_win_rate_DS_3x2_100steps = 0.508871989860583\n",
    "\n",
    "#Def_win_rate_CT_2x2 =  agent_wins[-1]/len(agent_wins)\n",
    "#Def_win_rate_CT_2x2 = 0.7058210251954822"
   ]
  },
  {
   "cell_type": "code",
   "execution_count": 46,
   "id": "d621857b",
   "metadata": {},
   "outputs": [
    {
     "data": {
      "image/png": "[encoded data removed]",
      "text/plain": [
       "<Figure size 432x288 with 1 Axes>"
      ]
     },
     "metadata": {
      "needs_background": "light"
     },
     "output_type": "display_data"
    }
   ],
   "source": [
    "#Font bigger\n",
    "plt.rcParams.update({'font.size': 22})\n",
    "\n",
    "fig = plt.figure()\n",
    "ax = fig.add_axes([1,1,2,2])\n",
    "\n",
    "langs = ['2vs3','3vs2','3vs3', '3vs4', '4vs3']\n",
    "\n",
    "X = np.arange(len(langs))\n",
    "\n",
    "com = [Def_win_rate_CT_2x3, Def_win_rate_CT_3x2, Def_win_rate_CT_3x3, Def_win_rate_CT_3x4, Def_win_rate_CT_4x3]\n",
    "ds = [0.30, 0.83, Def_win_rate_DS_3x3, Def_win_rate_DS_3x4, Def_win_rate_DS_4x3]\n",
    "\n",
    "#yerrCom = [0.0001833083548202774, 0.1, 0.1, 0.1,0.1]\n",
    "\n",
    "ax.bar(X+0.00, com , color = 'g', width = 0.25)\n",
    "ax.bar(X+0.25, ds , color = 'b', width = 0.25 )\n",
    "ax.grid()\n",
    "#matplotlib.rcParams.update({'font.size': 22})\n",
    "\n",
    "#ax.bar(ind, womenMeans, width,bottom=menMeans, color='b')\n",
    "ax.set_ylabel('Win rate')\n",
    "ax.set_title('Comparison of defenders win rate based on approach')\n",
    "ax.set_xticks(X+0.1)\n",
    "ax.set_xticklabels(['2vs3','3vs2','3vs3', '3vs4', '4vs3'])\n",
    "#ax.set_yticks(np.arange(0, 81, 10))\n",
    "ax.legend(labels=['Communication', 'Dynamic Shield'])\n",
    "\n",
    "#plt.savefig('BarPlot_Defeders_Win_Rate_6_of_6', dpi=300, bbox_inches='tight')\n",
    "\n",
    "plt.show()"
   ]
  },
  {
   "cell_type": "code",
   "execution_count": 47,
   "id": "b0f27014",
   "metadata": {},
   "outputs": [
    {
     "ename": "ValueError",
     "evalue": "shape mismatch: objects cannot be broadcast to a single shape",
     "output_type": "error",
     "traceback": [
      "\u001b[1;31m---------------------------------------------------------------------------\u001b[0m",
      "\u001b[1;31mValueError\u001b[0m                                Traceback (most recent call last)",
      "\u001b[1;32m<ipython-input-47-d47462ac13b2>\u001b[0m in \u001b[0;36m<module>\u001b[1;34m\u001b[0m\n\u001b[0;32m      8\u001b[0m \u001b[0mcom\u001b[0m \u001b[1;33m=\u001b[0m \u001b[1;33m[\u001b[0m\u001b[0mDef_win_rate_CT_3x2\u001b[0m\u001b[1;33m,\u001b[0m \u001b[0mDef_win_rate_CT_2x3\u001b[0m\u001b[1;33m,\u001b[0m \u001b[0mDef_win_rate_CT_3x3\u001b[0m\u001b[1;33m,\u001b[0m \u001b[0mDef_win_rate_CT_3x4\u001b[0m\u001b[1;33m,\u001b[0m \u001b[0mDef_win_rate_CT_4x3\u001b[0m\u001b[1;33m]\u001b[0m\u001b[1;33m\u001b[0m\u001b[1;33m\u001b[0m\u001b[0m\n\u001b[0;32m      9\u001b[0m \u001b[0mds\u001b[0m \u001b[1;33m=\u001b[0m \u001b[1;33m[\u001b[0m\u001b[0mDef_win_rate_DS_3x2\u001b[0m\u001b[1;33m,\u001b[0m \u001b[0mDef_win_rate_DS_2x3\u001b[0m\u001b[1;33m,\u001b[0m \u001b[0mDef_win_rate_DS_3x3\u001b[0m\u001b[1;33m,\u001b[0m \u001b[0mDef_win_rate_DS_3x4\u001b[0m\u001b[1;33m,\u001b[0m \u001b[0mDef_win_rate_DS_4x3\u001b[0m\u001b[1;33m]\u001b[0m\u001b[1;33m\u001b[0m\u001b[1;33m\u001b[0m\u001b[0m\n\u001b[1;32m---> 10\u001b[1;33m \u001b[0max\u001b[0m\u001b[1;33m.\u001b[0m\u001b[0mbar\u001b[0m\u001b[1;33m(\u001b[0m\u001b[0mX\u001b[0m\u001b[1;33m+\u001b[0m\u001b[1;36m0.00\u001b[0m\u001b[1;33m,\u001b[0m \u001b[0mcom\u001b[0m \u001b[1;33m,\u001b[0m \u001b[0mcolor\u001b[0m \u001b[1;33m=\u001b[0m \u001b[1;34m'g'\u001b[0m\u001b[1;33m,\u001b[0m \u001b[0mwidth\u001b[0m \u001b[1;33m=\u001b[0m \u001b[1;36m0.25\u001b[0m\u001b[1;33m)\u001b[0m\u001b[1;33m\u001b[0m\u001b[1;33m\u001b[0m\u001b[0m\n\u001b[0m\u001b[0;32m     11\u001b[0m \u001b[0max\u001b[0m\u001b[1;33m.\u001b[0m\u001b[0mbar\u001b[0m\u001b[1;33m(\u001b[0m\u001b[0mX\u001b[0m\u001b[1;33m+\u001b[0m\u001b[1;36m0.25\u001b[0m\u001b[1;33m,\u001b[0m \u001b[0mds\u001b[0m \u001b[1;33m,\u001b[0m \u001b[0mcolor\u001b[0m \u001b[1;33m=\u001b[0m \u001b[1;34m'b'\u001b[0m\u001b[1;33m,\u001b[0m \u001b[0mwidth\u001b[0m \u001b[1;33m=\u001b[0m \u001b[1;36m0.25\u001b[0m\u001b[1;33m)\u001b[0m\u001b[1;33m\u001b[0m\u001b[1;33m\u001b[0m\u001b[0m\n\u001b[0;32m     12\u001b[0m \u001b[0max\u001b[0m\u001b[1;33m.\u001b[0m\u001b[0mgrid\u001b[0m\u001b[1;33m(\u001b[0m\u001b[1;33m)\u001b[0m\u001b[1;33m\u001b[0m\u001b[1;33m\u001b[0m\u001b[0m\n",
      "\u001b[1;32m~\\anaconda3\\lib\\site-packages\\matplotlib\\__init__.py\u001b[0m in \u001b[0;36minner\u001b[1;34m(ax, data, *args, **kwargs)\u001b[0m\n\u001b[0;32m   1445\u001b[0m     \u001b[1;32mdef\u001b[0m \u001b[0minner\u001b[0m\u001b[1;33m(\u001b[0m\u001b[0max\u001b[0m\u001b[1;33m,\u001b[0m \u001b[1;33m*\u001b[0m\u001b[0margs\u001b[0m\u001b[1;33m,\u001b[0m \u001b[0mdata\u001b[0m\u001b[1;33m=\u001b[0m\u001b[1;32mNone\u001b[0m\u001b[1;33m,\u001b[0m \u001b[1;33m**\u001b[0m\u001b[0mkwargs\u001b[0m\u001b[1;33m)\u001b[0m\u001b[1;33m:\u001b[0m\u001b[1;33m\u001b[0m\u001b[1;33m\u001b[0m\u001b[0m\n\u001b[0;32m   1446\u001b[0m         \u001b[1;32mif\u001b[0m \u001b[0mdata\u001b[0m \u001b[1;32mis\u001b[0m \u001b[1;32mNone\u001b[0m\u001b[1;33m:\u001b[0m\u001b[1;33m\u001b[0m\u001b[1;33m\u001b[0m\u001b[0m\n\u001b[1;32m-> 1447\u001b[1;33m             \u001b[1;32mreturn\u001b[0m \u001b[0mfunc\u001b[0m\u001b[1;33m(\u001b[0m\u001b[0max\u001b[0m\u001b[1;33m,\u001b[0m \u001b[1;33m*\u001b[0m\u001b[0mmap\u001b[0m\u001b[1;33m(\u001b[0m\u001b[0msanitize_sequence\u001b[0m\u001b[1;33m,\u001b[0m \u001b[0margs\u001b[0m\u001b[1;33m)\u001b[0m\u001b[1;33m,\u001b[0m \u001b[1;33m**\u001b[0m\u001b[0mkwargs\u001b[0m\u001b[1;33m)\u001b[0m\u001b[1;33m\u001b[0m\u001b[1;33m\u001b[0m\u001b[0m\n\u001b[0m\u001b[0;32m   1448\u001b[0m \u001b[1;33m\u001b[0m\u001b[0m\n\u001b[0;32m   1449\u001b[0m         \u001b[0mbound\u001b[0m \u001b[1;33m=\u001b[0m \u001b[0mnew_sig\u001b[0m\u001b[1;33m.\u001b[0m\u001b[0mbind\u001b[0m\u001b[1;33m(\u001b[0m\u001b[0max\u001b[0m\u001b[1;33m,\u001b[0m \u001b[1;33m*\u001b[0m\u001b[0margs\u001b[0m\u001b[1;33m,\u001b[0m \u001b[1;33m**\u001b[0m\u001b[0mkwargs\u001b[0m\u001b[1;33m)\u001b[0m\u001b[1;33m\u001b[0m\u001b[1;33m\u001b[0m\u001b[0m\n",
      "\u001b[1;32m~\\anaconda3\\lib\\site-packages\\matplotlib\\axes\\_axes.py\u001b[0m in \u001b[0;36mbar\u001b[1;34m(self, x, height, width, bottom, align, **kwargs)\u001b[0m\n\u001b[0;32m   2428\u001b[0m                 \u001b[0myerr\u001b[0m \u001b[1;33m=\u001b[0m \u001b[0mself\u001b[0m\u001b[1;33m.\u001b[0m\u001b[0m_convert_dx\u001b[0m\u001b[1;33m(\u001b[0m\u001b[0myerr\u001b[0m\u001b[1;33m,\u001b[0m \u001b[0my0\u001b[0m\u001b[1;33m,\u001b[0m \u001b[0my\u001b[0m\u001b[1;33m,\u001b[0m \u001b[0mself\u001b[0m\u001b[1;33m.\u001b[0m\u001b[0mconvert_yunits\u001b[0m\u001b[1;33m)\u001b[0m\u001b[1;33m\u001b[0m\u001b[1;33m\u001b[0m\u001b[0m\n\u001b[0;32m   2429\u001b[0m \u001b[1;33m\u001b[0m\u001b[0m\n\u001b[1;32m-> 2430\u001b[1;33m         x, height, width, y, linewidth = np.broadcast_arrays(\n\u001b[0m\u001b[0;32m   2431\u001b[0m             \u001b[1;31m# Make args iterable too.\u001b[0m\u001b[1;33m\u001b[0m\u001b[1;33m\u001b[0m\u001b[1;33m\u001b[0m\u001b[0m\n\u001b[0;32m   2432\u001b[0m             np.atleast_1d(x), height, width, y, linewidth)\n",
      "\u001b[1;32m<__array_function__ internals>\u001b[0m in \u001b[0;36mbroadcast_arrays\u001b[1;34m(*args, **kwargs)\u001b[0m\n",
      "\u001b[1;32m~\\anaconda3\\lib\\site-packages\\numpy\\lib\\stride_tricks.py\u001b[0m in \u001b[0;36mbroadcast_arrays\u001b[1;34m(*args, **kwargs)\u001b[0m\n\u001b[0;32m    262\u001b[0m     \u001b[0margs\u001b[0m \u001b[1;33m=\u001b[0m \u001b[1;33m[\u001b[0m\u001b[0mnp\u001b[0m\u001b[1;33m.\u001b[0m\u001b[0marray\u001b[0m\u001b[1;33m(\u001b[0m\u001b[0m_m\u001b[0m\u001b[1;33m,\u001b[0m \u001b[0mcopy\u001b[0m\u001b[1;33m=\u001b[0m\u001b[1;32mFalse\u001b[0m\u001b[1;33m,\u001b[0m \u001b[0msubok\u001b[0m\u001b[1;33m=\u001b[0m\u001b[0msubok\u001b[0m\u001b[1;33m)\u001b[0m \u001b[1;32mfor\u001b[0m \u001b[0m_m\u001b[0m \u001b[1;32min\u001b[0m \u001b[0margs\u001b[0m\u001b[1;33m]\u001b[0m\u001b[1;33m\u001b[0m\u001b[1;33m\u001b[0m\u001b[0m\n\u001b[0;32m    263\u001b[0m \u001b[1;33m\u001b[0m\u001b[0m\n\u001b[1;32m--> 264\u001b[1;33m     \u001b[0mshape\u001b[0m \u001b[1;33m=\u001b[0m \u001b[0m_broadcast_shape\u001b[0m\u001b[1;33m(\u001b[0m\u001b[1;33m*\u001b[0m\u001b[0margs\u001b[0m\u001b[1;33m)\u001b[0m\u001b[1;33m\u001b[0m\u001b[1;33m\u001b[0m\u001b[0m\n\u001b[0m\u001b[0;32m    265\u001b[0m \u001b[1;33m\u001b[0m\u001b[0m\n\u001b[0;32m    266\u001b[0m     \u001b[1;32mif\u001b[0m \u001b[0mall\u001b[0m\u001b[1;33m(\u001b[0m\u001b[0marray\u001b[0m\u001b[1;33m.\u001b[0m\u001b[0mshape\u001b[0m \u001b[1;33m==\u001b[0m \u001b[0mshape\u001b[0m \u001b[1;32mfor\u001b[0m \u001b[0marray\u001b[0m \u001b[1;32min\u001b[0m \u001b[0margs\u001b[0m\u001b[1;33m)\u001b[0m\u001b[1;33m:\u001b[0m\u001b[1;33m\u001b[0m\u001b[1;33m\u001b[0m\u001b[0m\n",
      "\u001b[1;32m~\\anaconda3\\lib\\site-packages\\numpy\\lib\\stride_tricks.py\u001b[0m in \u001b[0;36m_broadcast_shape\u001b[1;34m(*args)\u001b[0m\n\u001b[0;32m    189\u001b[0m     \u001b[1;31m# use the old-iterator because np.nditer does not handle size 0 arrays\u001b[0m\u001b[1;33m\u001b[0m\u001b[1;33m\u001b[0m\u001b[1;33m\u001b[0m\u001b[0m\n\u001b[0;32m    190\u001b[0m     \u001b[1;31m# consistently\u001b[0m\u001b[1;33m\u001b[0m\u001b[1;33m\u001b[0m\u001b[1;33m\u001b[0m\u001b[0m\n\u001b[1;32m--> 191\u001b[1;33m     \u001b[0mb\u001b[0m \u001b[1;33m=\u001b[0m \u001b[0mnp\u001b[0m\u001b[1;33m.\u001b[0m\u001b[0mbroadcast\u001b[0m\u001b[1;33m(\u001b[0m\u001b[1;33m*\u001b[0m\u001b[0margs\u001b[0m\u001b[1;33m[\u001b[0m\u001b[1;33m:\u001b[0m\u001b[1;36m32\u001b[0m\u001b[1;33m]\u001b[0m\u001b[1;33m)\u001b[0m\u001b[1;33m\u001b[0m\u001b[1;33m\u001b[0m\u001b[0m\n\u001b[0m\u001b[0;32m    192\u001b[0m     \u001b[1;31m# unfortunately, it cannot handle 32 or more arguments directly\u001b[0m\u001b[1;33m\u001b[0m\u001b[1;33m\u001b[0m\u001b[1;33m\u001b[0m\u001b[0m\n\u001b[0;32m    193\u001b[0m     \u001b[1;32mfor\u001b[0m \u001b[0mpos\u001b[0m \u001b[1;32min\u001b[0m \u001b[0mrange\u001b[0m\u001b[1;33m(\u001b[0m\u001b[1;36m32\u001b[0m\u001b[1;33m,\u001b[0m \u001b[0mlen\u001b[0m\u001b[1;33m(\u001b[0m\u001b[0margs\u001b[0m\u001b[1;33m)\u001b[0m\u001b[1;33m,\u001b[0m \u001b[1;36m31\u001b[0m\u001b[1;33m)\u001b[0m\u001b[1;33m:\u001b[0m\u001b[1;33m\u001b[0m\u001b[1;33m\u001b[0m\u001b[0m\n",
      "\u001b[1;31mValueError\u001b[0m: shape mismatch: objects cannot be broadcast to a single shape"
     ]
    },
    {
     "data": {
      "image/png": "[encoded data removed]",
      "text/plain": [
       "<Figure size 432x288 with 1 Axes>"
      ]
     },
     "metadata": {
      "needs_background": "light"
     },
     "output_type": "display_data"
    }
   ],
   "source": [
    "#Font bigger\n",
    "plt.rcParams.update({'font.size': 22})\n",
    "\n",
    "fig = plt.figure()\n",
    "ax = fig.add_axes([1,1,2,2])\n",
    "langs = ['3vs2','2vs3','3vs3', '3vs4', '4vs3']\n",
    "X = np.arange(3)\n",
    "com = [Def_win_rate_CT_3x2, Def_win_rate_CT_2x3, Def_win_rate_CT_3x3, Def_win_rate_CT_3x4, Def_win_rate_CT_4x3]\n",
    "ds = [Def_win_rate_DS_3x2, Def_win_rate_DS_2x3, Def_win_rate_DS_3x3, Def_win_rate_DS_3x4, Def_win_rate_DS_4x3]\n",
    "ax.bar(X+0.00, com , color = 'g', width = 0.25)\n",
    "ax.bar(X+0.25, ds , color = 'b', width = 0.25)\n",
    "ax.grid()\n",
    "#matplotlib.rcParams.update({'font.size': 22})\n",
    "\n",
    "#ax.bar(ind, womenMeans, width,bottom=menMeans, color='b')\n",
    "ax.set_ylabel('Win rate')\n",
    "ax.set_title('Comparison of defenders win rate based on approach')\n",
    "ax.set_xticks(X+0.1)\n",
    "ax.set_xticklabels(['3vs2','2vs3','3vs3', '3vs4', '4vs3'])\n",
    "#ax.set_yticks(np.arange(0, 81, 10))\n",
    "ax.legend(labels=['Communication', 'Dynamic Shield'])\n",
    "\n",
    "#plt.savefig('BarPlot_Defeders_Win_Rate_6_of_6', dpi=300, bbox_inches='tight')\n",
    "\n",
    "plt.show()"
   ]
  },
  {
   "cell_type": "code",
   "execution_count": null,
   "id": "b29dd7b0",
   "metadata": {},
   "outputs": [],
   "source": [
    "#agent_wins\n",
    "l = [(win / 100) for win in agent_wins]\n",
    "#l[-100:]"
   ]
  },
  {
   "cell_type": "code",
   "execution_count": null,
   "id": "e5388c34",
   "metadata": {},
   "outputs": [],
   "source": [
    "figure, axis  = plt.subplots(2, 1, constrained_layout=True)\n",
    "    \n",
    "axis[0].plot(range(len(agent_wins)), [(win / len(agent_wins)) for win in agent_wins], color='blue',alpha=0.6)\n",
    "axis[0].plot(range(len(adv_wins)), [(win / len(adv_wins)) for win in adv_wins], color='red',alpha=0.6)\n",
    "axis[0].grid()\n",
    "axis[0].set_title(\"3 agents, 2 adversaries\")\n",
    "axis[0].set_xlabel(\"Episodes\")\n",
    "axis[0].set_ylabel(\"Wins\")\n",
    "axis[0].legend(['Agent Wins','Adversary Wins'],facecolor='w',loc='upper center',shadow=True,edgecolor='black')\n",
    "    \n",
    "\n",
    "axis[1].plot(range(len(avg_score_hist)), avg_score_hist, color='red',alpha=0.6)\n",
    "axis[1].grid()\n",
    "axis[1].set_title(\"Average reward\")\n",
    "axis[1].set_xlabel(\"Episodes\")\n",
    "axis[1].set_ylabel(\"Score\")\n",
    "    \n",
    "#axis[2].plot(range(len(agent_wins)), agent_wins, color='blue',alpha=0.6)\n",
    "#axis[2].plot(range(len(adv_wins)), adv_wins, color='red',alpha=0.6)\n",
    "#axis[2].grid()\n",
    "#axis[2].set_title(\"3 agents, 3 adversaries\")\n",
    "#axis[2].set_xlabel(\"Episodes\")\n",
    "#axis[2].set_ylabel(\"Wins\")\n",
    "#axis[2].legend(['Agent Wins','Adversary Wins'],facecolor='w',loc='upper center',shadow=True,edgecolor='black')\n",
    "    \n",
    "    \n",
    "    \n",
    "plt.savefig('CT_3x2_384k', dpi=300, bbox_inches='tight')\n",
    "    \n",
    "plt.show()"
   ]
  },
  {
   "cell_type": "code",
   "execution_count": null,
   "id": "67004c3e",
   "metadata": {},
   "outputs": [],
   "source": [
    "#Wait!! Should I be evaluating finishged models \n",
    "\n",
    "#OVERALL SIM NOTES\n",
    "#SHOULD I RUN THE SAME SETUP MULTIPLE TIMES??\n",
    "#IDEA FOR GRAPHS - WINNING SURPLUS WITH TIME ? SO => advWin600ep-advWin700ep  \n",
    "\n",
    "#ANALYSIS OF DEPENDENCE OF QUANTITY OF AGENTS ON THE TYPE OF APPROACH?? \n",
    "# E.G. BAD AGENTS WIN EITHER WAY WITH CM, EVEN IF THERE IS ONE AGENT \n",
    "\n",
    "#FOR CM/CT TARGETS COULD BE TOO CLOSE TOGETHER !!!"
   ]
  },
  {
   "cell_type": "code",
   "execution_count": null,
   "id": "45e6a212",
   "metadata": {},
   "outputs": [],
   "source": [
    "#WINS FOR THE PROBABILITY GRAPH \n",
    "\n",
    "#RUN FOR 70-100k EPISODES (doesn't show signs of learning much)\n",
    "DS_3x2_25k_35steps_0806down_ADV_WINS = 6032\n",
    "DS_3x2_25k_35steps_0806down_AG_WINS = 14256 \n",
    "\n",
    "#Run visual during learning to make sure if \n",
    "DS_3x2_10k_35steps_0705down_ADV_WINS = 7194\n",
    "DS_3x2_10k_35steps_0705down_AG_WINS = 1991 \n",
    "\n",
    "DS_3x3_25k_35steps_0806down_ADV_WINS = 19965\n",
    "DS_3x3_25k_35steps_0806down_AG_WINS =  3542\n",
    "\n",
    "#SIZE? Average score is quite negative, needs to be trained for longer \n",
    "DS_4x3_25k_35steps_0806down_ADV_WINS = 6520 \n",
    "DS_4x3_25k_35steps_0806down_AG_WINS = 13257 \n",
    "\n",
    "#BAD AGENTS START TO WIN AFTER 6 THOUSAND GAMES ?????\n",
    "#DS_3x1_25k_35steps_0806down_ADV_WINS =  \n",
    "#DS_3x1_25k_35steps_0806down_AG_WINS =  \n",
    "\n",
    "DS_2x1_25k_35steps_0806down_ADV_WINS =  2164\n",
    "DS_2x1_25k_35steps_0806down_AG_WINS =  20914\n",
    "\n",
    "#TRY 0705? Score very negative again \n",
    "DS_2x2_25k_35steps_0806down_ADV_WINS =  259\n",
    "DS_2x2_25k_35steps_0806down_AG_WINS =  19109\n",
    "\n",
    "#Quite negative score ? But not too much \n",
    "DS_2x2_25k_35steps_0706down_ADV_WINS =  7653\n",
    "DS_2x2_25k_35steps_0706down_AG_WINS =  14027\n",
    "\n",
    "\n",
    "##AT THE END GOOD AGENTS START TO WIN BY A LOT ??? ALMOST 80-90 EPISODES OUT OF 100?? \n",
    "#VERY INTERESTING RESULT !!!!!\n",
    "DS_3x1_25k_35steps_0706down_ADV_WINS =  12915\n",
    "DS_3x1_25k_35steps_0706down_AG_WINS =  10617\n",
    "\n",
    "\n",
    "#AGENTS WIN AT THE END \n",
    "\n",
    "DS_3x1_25k_35steps_0806down_ADV_WINS_NoSwarm =  13629\n",
    "DS_3x1_25k_35steps_0806down_AG_WINS_NoSwarm =  9178\n",
    "\n",
    "\n",
    "DS_1x1_25k_35steps_0806down_ADV_WINS_NoSwarm =  6481\n",
    "DS_1x1_25k_35steps_0806down_AG_WINS_NoSwarm =  17465\n",
    "\n",
    "DS_1x1_25k_35steps_0806down_ADV_WINS_Swarm =  4218\n",
    "DS_1x1_25k_35steps_0806down_AG_WINS_Swarm =  19764\n",
    "\n",
    "#BUT Model with agents winning 1 GA 2 BA \n",
    "DS_1x2_25k_35steps_0806down_ADV_WINS_Swarm =  13772\n",
    "DS_1x2_25k_35steps_0806down_AG_WINS_Swarm =  9373\n",
    "\n",
    "DS_1x2_25k_35steps_0806down_ADV_WINS_NoSwarm =  7325\n",
    "DS_1x2_25k_35steps_0806down_AG_WINS_NoSwarm =  14045\n",
    "\n",
    "# 1 GA 3 BA \n",
    "#DS_1x3_25k_35steps_0806down_ADV_WINS_Swarm =  7325\n",
    "#DS_1x3_25k_35steps_0806down_AG_WINS_Swarm =  14045\n",
    "\n",
    "#50 K - 24244, 19183\n",
    "\n",
    "# 2 GA 3 BA (30/70 I think?)\n",
    "#100k 33094, 59155\n",
    "\n",
    "# 3 GA 2 BA (75/25)\n",
    "#100k 47406, 50865\n",
    "\n",
    "# 3 X # (30-40?? in simul/70)\n",
    "# 200k 15370, 183903\n",
    "\n",
    "# 40/60\n",
    "#300k 51234, 247200\n",
    "\n",
    "#TO TRY 5x4 "
   ]
  },
  {
   "cell_type": "code",
   "execution_count": null,
   "id": "2f6c21b2",
   "metadata": {},
   "outputs": [],
   "source": [
    "#TRY WITH NO SWARM \n",
    "#CHECK OTHER BOUND \n",
    "\n",
    "#COMMUNICATION APPROACH TIME \n",
    "\n",
    "CT_2X2_25k_Swarm_35steps_ADV_WINS = 14372\n",
    "CT_2X2_25k_Swarm_35steps_AG_WINS = 5668\n",
    "\n",
    "#The good agents were going up at the end?\n",
    "#Overall reward is pretty high\n",
    "CT_2X2_25k_NoSwarm_35steps_ADV_WINS = 13869\n",
    "CT_2X2_25k_NoSwarm_35steps_AG_WINS = 7396\n",
    "\n",
    "\n",
    "#Size 0.1 smaller agent and landmark \n",
    "#After 1600 games, ADV team starts winning \n",
    "CT_4X2_25k_Swarm_35steps_ADV_WINS = 14306\n",
    "CT_4X2_25k_Swarm_35steps_AG_WINS = 7605\n",
    "\n",
    "\n",
    "CT_3X2_25k_Swarm_35steps_ADV_WINS = 10373\n",
    "CT_3X2_25k_Swarm_35steps_AG_WINS = 7047\n",
    "\n",
    "#The same number throughout !!??\n",
    "CT_3X3_25k_Swarm_35steps_ADV_WINS = 10659\n",
    "CT_3X3_25k_Swarm_35steps_AG_WINS = 10461\n",
    "\n",
    "CT_3X3_25k_Swarm_35steps_ADV_WINS_TRY2 = 12334\n",
    "CT_3X3_25k_Swarm_35steps_AG_WINS_TRY2 = 9582\n",
    "\n",
    "#Low number of overall victories, improved performance overtime (you can see the reward on the graph)\n",
    "#LOW OVERALL BECAUSE OF OTHER BOUND HARDCOFING? \n",
    "CT_2X1_25k_Swarm_35steps_ADV_WINS = 8839 \n",
    "CT_2X1_25k_Swarm_35steps_AG_WINS = 4507\n",
    "\n",
    "#OTHER BOUND HARDCODING CHANGE ?? \n",
    "CT_4X3_25k_Swarm_35steps_ADV_WINS = 13018 \n",
    "CT_4X3_25k_Swarm_35steps_AG_WINS = 9202"
   ]
  },
  {
   "cell_type": "code",
   "execution_count": null,
   "id": "295a68ad",
   "metadata": {},
   "outputs": [],
   "source": [
    "\n",
    "CM_2X2_25k_Swarm_35steps_ADV_WINS = 14372\n",
    "CM_2X2_25k_Swarm_35steps_AG_WINS = 5668\n",
    "\n",
    "\n",
    "#WHEN NO SWARM THE LEARNING IS FASTER ?? (IS IT A MATTER OF TIME/N OF EPISODES OR COMPLEXITY/HAVING TOO MANY REWARDS)\n",
    "#IMPORTANT!! THE SAVED MODEL WHEN RUNNING - THE AGENTS DON'T COME OUT OF THE BOUNDARIES \n",
    "CM_2X2_25k_NoSwarm_35steps_ADV_WINS = 8880\n",
    "CM_2X2_25k_NoSwarm_35steps_AG_WINS = 5178\n",
    "\n",
    "#THE REWARD GRAPH IS VERY GOOD, THE LEARNING PLATAUES AFTER 5K GAMES \n",
    "CM_3X2_25k_NoSwarm_35steps_ADV_WINS = 16207\n",
    "CM_3X2_25k_NoSwarm_35steps_AG_WINS = 7035\n",
    "\n",
    "#Good graph as well \n",
    "CM_3X2_25k_Swarm_35steps_ADV_WINS = 10961\n",
    "CM_3X2_25k_Swarm_35steps_AG_WINS = 5574\n",
    "\n",
    "#\n",
    "CM_3X3_25k_Swarm_35steps_ADV_WINS = 12136\n",
    "CM_3X3_25k_Swarm_35steps_AG_WINS = 6873\n",
    "\n",
    "CM_4X3_25k_Swarm_35steps_ADV_WINS = 10385\n",
    "CM_4X3_25k_Swarm_35steps_AG_WINS = 6907\n",
    "\n",
    "#WORKING MODEL !! \n",
    "#ONE AGENT ALWAYS FLIES AWAY FOR SOME REASON? \n",
    "CM_3X1_25k_Swarm_35steps_ADV_WINS = 6340\n",
    "CM_3X1_25k_Swarm_35steps_AG_WINS = 2922"
   ]
  },
  {
   "cell_type": "code",
   "execution_count": null,
   "id": "c2e71c89",
   "metadata": {},
   "outputs": [],
   "source": [
    "print(adv_wins) "
   ]
  },
  {
   "cell_type": "code",
   "execution_count": null,
   "id": "0a022736",
   "metadata": {},
   "outputs": [],
   "source": [
    "print(agent_wins)"
   ]
  },
  {
   "cell_type": "code",
   "execution_count": null,
   "id": "561780bf",
   "metadata": {},
   "outputs": [],
   "source": [
    "#TO DO \n",
    "\n",
    "#OBSERVATIONS CHECK \n",
    "#Spawning: random edge position for BA (4 pos)\n",
    "#Allignment for BA \n",
    "\n",
    "#IDEA: GA win if enought TIME passes without BA getting close to the target (how?)\n",
    "\n",
    "\n",
    "\n",
    "\n",
    "\n"
   ]
  },
  {
   "cell_type": "code",
   "execution_count": null,
   "id": "5bc9f9a9",
   "metadata": {},
   "outputs": [],
   "source": [
    "a = np.random.uniform(-1, -0.8, 2)\n",
    "b = np.random.uniform(0.8, +1, 2)\n",
    "c = np.random.uniform(a, b, 2)\n"
   ]
  },
  {
   "cell_type": "code",
   "execution_count": null,
   "id": "8e21786d",
   "metadata": {},
   "outputs": [],
   "source": [
    "#ADV\n",
    "advPos = np.random.uniform(+0.6, +0.4, 2)\n",
    "advPos"
   ]
  },
  {
   "cell_type": "code",
   "execution_count": null,
   "id": "648f68b9",
   "metadata": {},
   "outputs": [],
   "source": [
    "#LANDMARK\n",
    "landPos = np.random.uniform(-0.5, +0.5, 2) \n",
    "landPos"
   ]
  },
  {
   "cell_type": "code",
   "execution_count": null,
   "id": "47cfbee8",
   "metadata": {},
   "outputs": [],
   "source": [
    "np.sqrt(np.sum(np.square(advPos - landPos)))"
   ]
  },
  {
   "cell_type": "code",
   "execution_count": null,
   "id": "45cbfc3c",
   "metadata": {},
   "outputs": [],
   "source": [
    "#SHOULD BE THE CLOSER - THE BIGGER REWARD\n",
    "#adv_rew1 = sum([np.sqrt(np.sum(np.square(a.state.p_pos - a.goal_a.state.p_pos))) for a in adversary_agents])\n",
    "\n",
    "sum([np.sqrt(np.sum(np.square(advPos - landPos))) for a in range(3)])"
   ]
  },
  {
   "cell_type": "code",
   "execution_count": null,
   "id": "44fa544c",
   "metadata": {},
   "outputs": [],
   "source": [
    "np.sqrt(np.sum(np.square(5 - 10)))"
   ]
  }
 ],
 "metadata": {
  "kernelspec": {
   "display_name": "Python 3",
   "language": "python",
   "name": "python3"
  },
  "language_info": {
   "codemirror_mode": {
    "name": "ipython",
    "version": 3
   },
   "file_extension": ".py",
   "mimetype": "text/x-python",
   "name": "python",
   "nbconvert_exporter": "python",
   "pygments_lexer": "ipython3",
   "version": "3.8.8"
  }
 },
 "nbformat": 4,
 "nbformat_minor": 5
}
